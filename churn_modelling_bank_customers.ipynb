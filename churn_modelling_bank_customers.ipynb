{
  "nbformat": 4,
  "nbformat_minor": 0,
  "metadata": {
    "kernelspec": {
      "display_name": "Python 3",
      "language": "python",
      "name": "python3"
    },
    "language_info": {
      "codemirror_mode": {
        "name": "ipython",
        "version": 3
      },
      "file_extension": ".py",
      "mimetype": "text/x-python",
      "name": "python",
      "nbconvert_exporter": "python",
      "pygments_lexer": "ipython3",
      "version": "3.7.6"
    },
    "colab": {
      "name": "churn_modelling_bank-customers.ipynb",
      "provenance": [],
      "include_colab_link": true
    }
  },
  "cells": [
    {
      "cell_type": "markdown",
      "metadata": {
        "id": "view-in-github",
        "colab_type": "text"
      },
      "source": [
        "<a href=\"https://colab.research.google.com/github/mayur0408/Nueral_network_practice/blob/main/churn_modelling_bank_customers.ipynb\" target=\"_parent\"><img src=\"https://colab.research.google.com/assets/colab-badge.svg\" alt=\"Open In Colab\"/></a>"
      ]
    },
    {
      "cell_type": "code",
      "metadata": {
        "colab": {
          "base_uri": "https://localhost:8080/",
          "height": 204
        },
        "id": "wvc1_2LThSxx",
        "outputId": "f3b88127-ae58-428c-9772-64e69ae8834e"
      },
      "source": [
        "import numpy as np\n",
        "import pandas as pd\n",
        "import matplotlib.pyplot as plt \n",
        "import seaborn as sns \n",
        "df=pd.read_csv('/content/Churn_Modelling.csv')\n",
        "df.head()"
      ],
      "execution_count": 43,
      "outputs": [
        {
          "output_type": "execute_result",
          "data": {
            "text/html": [
              "<div>\n",
              "<style scoped>\n",
              "    .dataframe tbody tr th:only-of-type {\n",
              "        vertical-align: middle;\n",
              "    }\n",
              "\n",
              "    .dataframe tbody tr th {\n",
              "        vertical-align: top;\n",
              "    }\n",
              "\n",
              "    .dataframe thead th {\n",
              "        text-align: right;\n",
              "    }\n",
              "</style>\n",
              "<table border=\"1\" class=\"dataframe\">\n",
              "  <thead>\n",
              "    <tr style=\"text-align: right;\">\n",
              "      <th></th>\n",
              "      <th>RowNumber</th>\n",
              "      <th>CustomerId</th>\n",
              "      <th>Surname</th>\n",
              "      <th>CreditScore</th>\n",
              "      <th>Geography</th>\n",
              "      <th>Gender</th>\n",
              "      <th>Age</th>\n",
              "      <th>Tenure</th>\n",
              "      <th>Balance</th>\n",
              "      <th>NumOfProducts</th>\n",
              "      <th>HasCrCard</th>\n",
              "      <th>IsActiveMember</th>\n",
              "      <th>EstimatedSalary</th>\n",
              "      <th>Exited</th>\n",
              "    </tr>\n",
              "  </thead>\n",
              "  <tbody>\n",
              "    <tr>\n",
              "      <th>0</th>\n",
              "      <td>1</td>\n",
              "      <td>15634602</td>\n",
              "      <td>Hargrave</td>\n",
              "      <td>619</td>\n",
              "      <td>France</td>\n",
              "      <td>Female</td>\n",
              "      <td>42</td>\n",
              "      <td>2</td>\n",
              "      <td>0.00</td>\n",
              "      <td>1</td>\n",
              "      <td>1</td>\n",
              "      <td>1</td>\n",
              "      <td>101348.88</td>\n",
              "      <td>1</td>\n",
              "    </tr>\n",
              "    <tr>\n",
              "      <th>1</th>\n",
              "      <td>2</td>\n",
              "      <td>15647311</td>\n",
              "      <td>Hill</td>\n",
              "      <td>608</td>\n",
              "      <td>Spain</td>\n",
              "      <td>Female</td>\n",
              "      <td>41</td>\n",
              "      <td>1</td>\n",
              "      <td>83807.86</td>\n",
              "      <td>1</td>\n",
              "      <td>0</td>\n",
              "      <td>1</td>\n",
              "      <td>112542.58</td>\n",
              "      <td>0</td>\n",
              "    </tr>\n",
              "    <tr>\n",
              "      <th>2</th>\n",
              "      <td>3</td>\n",
              "      <td>15619304</td>\n",
              "      <td>Onio</td>\n",
              "      <td>502</td>\n",
              "      <td>France</td>\n",
              "      <td>Female</td>\n",
              "      <td>42</td>\n",
              "      <td>8</td>\n",
              "      <td>159660.80</td>\n",
              "      <td>3</td>\n",
              "      <td>1</td>\n",
              "      <td>0</td>\n",
              "      <td>113931.57</td>\n",
              "      <td>1</td>\n",
              "    </tr>\n",
              "    <tr>\n",
              "      <th>3</th>\n",
              "      <td>4</td>\n",
              "      <td>15701354</td>\n",
              "      <td>Boni</td>\n",
              "      <td>699</td>\n",
              "      <td>France</td>\n",
              "      <td>Female</td>\n",
              "      <td>39</td>\n",
              "      <td>1</td>\n",
              "      <td>0.00</td>\n",
              "      <td>2</td>\n",
              "      <td>0</td>\n",
              "      <td>0</td>\n",
              "      <td>93826.63</td>\n",
              "      <td>0</td>\n",
              "    </tr>\n",
              "    <tr>\n",
              "      <th>4</th>\n",
              "      <td>5</td>\n",
              "      <td>15737888</td>\n",
              "      <td>Mitchell</td>\n",
              "      <td>850</td>\n",
              "      <td>Spain</td>\n",
              "      <td>Female</td>\n",
              "      <td>43</td>\n",
              "      <td>2</td>\n",
              "      <td>125510.82</td>\n",
              "      <td>1</td>\n",
              "      <td>1</td>\n",
              "      <td>1</td>\n",
              "      <td>79084.10</td>\n",
              "      <td>0</td>\n",
              "    </tr>\n",
              "  </tbody>\n",
              "</table>\n",
              "</div>"
            ],
            "text/plain": [
              "   RowNumber  CustomerId   Surname  ...  IsActiveMember EstimatedSalary Exited\n",
              "0          1    15634602  Hargrave  ...               1       101348.88      1\n",
              "1          2    15647311      Hill  ...               1       112542.58      0\n",
              "2          3    15619304      Onio  ...               0       113931.57      1\n",
              "3          4    15701354      Boni  ...               0        93826.63      0\n",
              "4          5    15737888  Mitchell  ...               1        79084.10      0\n",
              "\n",
              "[5 rows x 14 columns]"
            ]
          },
          "metadata": {
            "tags": []
          },
          "execution_count": 43
        }
      ]
    },
    {
      "cell_type": "code",
      "metadata": {
        "colab": {
          "base_uri": "https://localhost:8080/",
          "height": 204
        },
        "id": "cN7VwP9dhSyS",
        "outputId": "d7e4ec43-f173-40ba-a57f-ed93e17849ad"
      },
      "source": [
        "# drop first three columns as they do not contribute much to prediction !\n",
        "df=df.drop(['RowNumber','CustomerId','Surname'],axis=1)\n",
        "df.head()"
      ],
      "execution_count": 44,
      "outputs": [
        {
          "output_type": "execute_result",
          "data": {
            "text/html": [
              "<div>\n",
              "<style scoped>\n",
              "    .dataframe tbody tr th:only-of-type {\n",
              "        vertical-align: middle;\n",
              "    }\n",
              "\n",
              "    .dataframe tbody tr th {\n",
              "        vertical-align: top;\n",
              "    }\n",
              "\n",
              "    .dataframe thead th {\n",
              "        text-align: right;\n",
              "    }\n",
              "</style>\n",
              "<table border=\"1\" class=\"dataframe\">\n",
              "  <thead>\n",
              "    <tr style=\"text-align: right;\">\n",
              "      <th></th>\n",
              "      <th>CreditScore</th>\n",
              "      <th>Geography</th>\n",
              "      <th>Gender</th>\n",
              "      <th>Age</th>\n",
              "      <th>Tenure</th>\n",
              "      <th>Balance</th>\n",
              "      <th>NumOfProducts</th>\n",
              "      <th>HasCrCard</th>\n",
              "      <th>IsActiveMember</th>\n",
              "      <th>EstimatedSalary</th>\n",
              "      <th>Exited</th>\n",
              "    </tr>\n",
              "  </thead>\n",
              "  <tbody>\n",
              "    <tr>\n",
              "      <th>0</th>\n",
              "      <td>619</td>\n",
              "      <td>France</td>\n",
              "      <td>Female</td>\n",
              "      <td>42</td>\n",
              "      <td>2</td>\n",
              "      <td>0.00</td>\n",
              "      <td>1</td>\n",
              "      <td>1</td>\n",
              "      <td>1</td>\n",
              "      <td>101348.88</td>\n",
              "      <td>1</td>\n",
              "    </tr>\n",
              "    <tr>\n",
              "      <th>1</th>\n",
              "      <td>608</td>\n",
              "      <td>Spain</td>\n",
              "      <td>Female</td>\n",
              "      <td>41</td>\n",
              "      <td>1</td>\n",
              "      <td>83807.86</td>\n",
              "      <td>1</td>\n",
              "      <td>0</td>\n",
              "      <td>1</td>\n",
              "      <td>112542.58</td>\n",
              "      <td>0</td>\n",
              "    </tr>\n",
              "    <tr>\n",
              "      <th>2</th>\n",
              "      <td>502</td>\n",
              "      <td>France</td>\n",
              "      <td>Female</td>\n",
              "      <td>42</td>\n",
              "      <td>8</td>\n",
              "      <td>159660.80</td>\n",
              "      <td>3</td>\n",
              "      <td>1</td>\n",
              "      <td>0</td>\n",
              "      <td>113931.57</td>\n",
              "      <td>1</td>\n",
              "    </tr>\n",
              "    <tr>\n",
              "      <th>3</th>\n",
              "      <td>699</td>\n",
              "      <td>France</td>\n",
              "      <td>Female</td>\n",
              "      <td>39</td>\n",
              "      <td>1</td>\n",
              "      <td>0.00</td>\n",
              "      <td>2</td>\n",
              "      <td>0</td>\n",
              "      <td>0</td>\n",
              "      <td>93826.63</td>\n",
              "      <td>0</td>\n",
              "    </tr>\n",
              "    <tr>\n",
              "      <th>4</th>\n",
              "      <td>850</td>\n",
              "      <td>Spain</td>\n",
              "      <td>Female</td>\n",
              "      <td>43</td>\n",
              "      <td>2</td>\n",
              "      <td>125510.82</td>\n",
              "      <td>1</td>\n",
              "      <td>1</td>\n",
              "      <td>1</td>\n",
              "      <td>79084.10</td>\n",
              "      <td>0</td>\n",
              "    </tr>\n",
              "  </tbody>\n",
              "</table>\n",
              "</div>"
            ],
            "text/plain": [
              "   CreditScore Geography  Gender  ...  IsActiveMember  EstimatedSalary  Exited\n",
              "0          619    France  Female  ...               1        101348.88       1\n",
              "1          608     Spain  Female  ...               1        112542.58       0\n",
              "2          502    France  Female  ...               0        113931.57       1\n",
              "3          699    France  Female  ...               0         93826.63       0\n",
              "4          850     Spain  Female  ...               1         79084.10       0\n",
              "\n",
              "[5 rows x 11 columns]"
            ]
          },
          "metadata": {
            "tags": []
          },
          "execution_count": 44
        }
      ]
    },
    {
      "cell_type": "code",
      "metadata": {
        "colab": {
          "base_uri": "https://localhost:8080/"
        },
        "id": "wOuFh4bohSyY",
        "outputId": "0519e90b-3cc2-424f-b21e-003a32b0b315"
      },
      "source": [
        "df.shape"
      ],
      "execution_count": 45,
      "outputs": [
        {
          "output_type": "execute_result",
          "data": {
            "text/plain": [
              "(10000, 11)"
            ]
          },
          "metadata": {
            "tags": []
          },
          "execution_count": 45
        }
      ]
    },
    {
      "cell_type": "code",
      "metadata": {
        "colab": {
          "base_uri": "https://localhost:8080/"
        },
        "id": "zamNKjk9hSyZ",
        "outputId": "bc441535-2497-4fc9-8312-2bd5320c66d8"
      },
      "source": [
        "df.info()"
      ],
      "execution_count": 46,
      "outputs": [
        {
          "output_type": "stream",
          "text": [
            "<class 'pandas.core.frame.DataFrame'>\n",
            "RangeIndex: 10000 entries, 0 to 9999\n",
            "Data columns (total 11 columns):\n",
            " #   Column           Non-Null Count  Dtype  \n",
            "---  ------           --------------  -----  \n",
            " 0   CreditScore      10000 non-null  int64  \n",
            " 1   Geography        10000 non-null  object \n",
            " 2   Gender           10000 non-null  object \n",
            " 3   Age              10000 non-null  int64  \n",
            " 4   Tenure           10000 non-null  int64  \n",
            " 5   Balance          10000 non-null  float64\n",
            " 6   NumOfProducts    10000 non-null  int64  \n",
            " 7   HasCrCard        10000 non-null  int64  \n",
            " 8   IsActiveMember   10000 non-null  int64  \n",
            " 9   EstimatedSalary  10000 non-null  float64\n",
            " 10  Exited           10000 non-null  int64  \n",
            "dtypes: float64(2), int64(7), object(2)\n",
            "memory usage: 859.5+ KB\n"
          ],
          "name": "stdout"
        }
      ]
    },
    {
      "cell_type": "code",
      "metadata": {
        "colab": {
          "base_uri": "https://localhost:8080/",
          "height": 297
        },
        "id": "dyZQTJF5hSya",
        "outputId": "7454c203-8d18-4b68-854a-1747fc079738"
      },
      "source": [
        "df.describe()"
      ],
      "execution_count": 47,
      "outputs": [
        {
          "output_type": "execute_result",
          "data": {
            "text/html": [
              "<div>\n",
              "<style scoped>\n",
              "    .dataframe tbody tr th:only-of-type {\n",
              "        vertical-align: middle;\n",
              "    }\n",
              "\n",
              "    .dataframe tbody tr th {\n",
              "        vertical-align: top;\n",
              "    }\n",
              "\n",
              "    .dataframe thead th {\n",
              "        text-align: right;\n",
              "    }\n",
              "</style>\n",
              "<table border=\"1\" class=\"dataframe\">\n",
              "  <thead>\n",
              "    <tr style=\"text-align: right;\">\n",
              "      <th></th>\n",
              "      <th>CreditScore</th>\n",
              "      <th>Age</th>\n",
              "      <th>Tenure</th>\n",
              "      <th>Balance</th>\n",
              "      <th>NumOfProducts</th>\n",
              "      <th>HasCrCard</th>\n",
              "      <th>IsActiveMember</th>\n",
              "      <th>EstimatedSalary</th>\n",
              "      <th>Exited</th>\n",
              "    </tr>\n",
              "  </thead>\n",
              "  <tbody>\n",
              "    <tr>\n",
              "      <th>count</th>\n",
              "      <td>10000.000000</td>\n",
              "      <td>10000.000000</td>\n",
              "      <td>10000.000000</td>\n",
              "      <td>10000.000000</td>\n",
              "      <td>10000.000000</td>\n",
              "      <td>10000.00000</td>\n",
              "      <td>10000.000000</td>\n",
              "      <td>10000.000000</td>\n",
              "      <td>10000.000000</td>\n",
              "    </tr>\n",
              "    <tr>\n",
              "      <th>mean</th>\n",
              "      <td>650.528800</td>\n",
              "      <td>38.921800</td>\n",
              "      <td>5.012800</td>\n",
              "      <td>76485.889288</td>\n",
              "      <td>1.530200</td>\n",
              "      <td>0.70550</td>\n",
              "      <td>0.515100</td>\n",
              "      <td>100090.239881</td>\n",
              "      <td>0.203700</td>\n",
              "    </tr>\n",
              "    <tr>\n",
              "      <th>std</th>\n",
              "      <td>96.653299</td>\n",
              "      <td>10.487806</td>\n",
              "      <td>2.892174</td>\n",
              "      <td>62397.405202</td>\n",
              "      <td>0.581654</td>\n",
              "      <td>0.45584</td>\n",
              "      <td>0.499797</td>\n",
              "      <td>57510.492818</td>\n",
              "      <td>0.402769</td>\n",
              "    </tr>\n",
              "    <tr>\n",
              "      <th>min</th>\n",
              "      <td>350.000000</td>\n",
              "      <td>18.000000</td>\n",
              "      <td>0.000000</td>\n",
              "      <td>0.000000</td>\n",
              "      <td>1.000000</td>\n",
              "      <td>0.00000</td>\n",
              "      <td>0.000000</td>\n",
              "      <td>11.580000</td>\n",
              "      <td>0.000000</td>\n",
              "    </tr>\n",
              "    <tr>\n",
              "      <th>25%</th>\n",
              "      <td>584.000000</td>\n",
              "      <td>32.000000</td>\n",
              "      <td>3.000000</td>\n",
              "      <td>0.000000</td>\n",
              "      <td>1.000000</td>\n",
              "      <td>0.00000</td>\n",
              "      <td>0.000000</td>\n",
              "      <td>51002.110000</td>\n",
              "      <td>0.000000</td>\n",
              "    </tr>\n",
              "    <tr>\n",
              "      <th>50%</th>\n",
              "      <td>652.000000</td>\n",
              "      <td>37.000000</td>\n",
              "      <td>5.000000</td>\n",
              "      <td>97198.540000</td>\n",
              "      <td>1.000000</td>\n",
              "      <td>1.00000</td>\n",
              "      <td>1.000000</td>\n",
              "      <td>100193.915000</td>\n",
              "      <td>0.000000</td>\n",
              "    </tr>\n",
              "    <tr>\n",
              "      <th>75%</th>\n",
              "      <td>718.000000</td>\n",
              "      <td>44.000000</td>\n",
              "      <td>7.000000</td>\n",
              "      <td>127644.240000</td>\n",
              "      <td>2.000000</td>\n",
              "      <td>1.00000</td>\n",
              "      <td>1.000000</td>\n",
              "      <td>149388.247500</td>\n",
              "      <td>0.000000</td>\n",
              "    </tr>\n",
              "    <tr>\n",
              "      <th>max</th>\n",
              "      <td>850.000000</td>\n",
              "      <td>92.000000</td>\n",
              "      <td>10.000000</td>\n",
              "      <td>250898.090000</td>\n",
              "      <td>4.000000</td>\n",
              "      <td>1.00000</td>\n",
              "      <td>1.000000</td>\n",
              "      <td>199992.480000</td>\n",
              "      <td>1.000000</td>\n",
              "    </tr>\n",
              "  </tbody>\n",
              "</table>\n",
              "</div>"
            ],
            "text/plain": [
              "        CreditScore           Age  ...  EstimatedSalary        Exited\n",
              "count  10000.000000  10000.000000  ...     10000.000000  10000.000000\n",
              "mean     650.528800     38.921800  ...    100090.239881      0.203700\n",
              "std       96.653299     10.487806  ...     57510.492818      0.402769\n",
              "min      350.000000     18.000000  ...        11.580000      0.000000\n",
              "25%      584.000000     32.000000  ...     51002.110000      0.000000\n",
              "50%      652.000000     37.000000  ...    100193.915000      0.000000\n",
              "75%      718.000000     44.000000  ...    149388.247500      0.000000\n",
              "max      850.000000     92.000000  ...    199992.480000      1.000000\n",
              "\n",
              "[8 rows x 9 columns]"
            ]
          },
          "metadata": {
            "tags": []
          },
          "execution_count": 47
        }
      ]
    },
    {
      "cell_type": "code",
      "metadata": {
        "colab": {
          "base_uri": "https://localhost:8080/",
          "height": 318
        },
        "id": "AdzuLfnEhSyc",
        "outputId": "0355d409-4978-471d-8fb2-10010dd1f006"
      },
      "source": [
        "df['Geography'].value_counts().plot.bar()"
      ],
      "execution_count": 48,
      "outputs": [
        {
          "output_type": "execute_result",
          "data": {
            "text/plain": [
              "<matplotlib.axes._subplots.AxesSubplot at 0x7fac5faf57d0>"
            ]
          },
          "metadata": {
            "tags": []
          },
          "execution_count": 48
        },
        {
          "output_type": "display_data",
          "data": {
            "image/png": "[encoded data removed]",
            "text/plain": [
              "<Figure size 432x288 with 1 Axes>"
            ]
          },
          "metadata": {
            "tags": [],
            "needs_background": "light"
          }
        }
      ]
    },
    {
      "cell_type": "code",
      "metadata": {
        "colab": {
          "base_uri": "https://localhost:8080/",
          "height": 308
        },
        "id": "Ft020PyUhSyd",
        "outputId": "a8fdeea7-39fb-4381-e924-b7635bdad5df"
      },
      "source": [
        "df['Gender'].value_counts().plot.bar()"
      ],
      "execution_count": 49,
      "outputs": [
        {
          "output_type": "execute_result",
          "data": {
            "text/plain": [
              "<matplotlib.axes._subplots.AxesSubplot at 0x7fac5faf6c50>"
            ]
          },
          "metadata": {
            "tags": []
          },
          "execution_count": 49
        },
        {
          "output_type": "display_data",
          "data": {
            "image/png": "[encoded data removed]",
            "text/plain": [
              "<Figure size 432x288 with 1 Axes>"
            ]
          },
          "metadata": {
            "tags": [],
            "needs_background": "light"
          }
        }
      ]
    },
    {
      "cell_type": "code",
      "metadata": {
        "colab": {
          "base_uri": "https://localhost:8080/"
        },
        "id": "m1FVej3thSye",
        "outputId": "0b94baf4-d342-4b64-fb36-5dcade034eb6"
      },
      "source": [
        "df1=pd.get_dummies(df,drop_first=True)\n",
        "df1.shape"
      ],
      "execution_count": 50,
      "outputs": [
        {
          "output_type": "execute_result",
          "data": {
            "text/plain": [
              "(10000, 12)"
            ]
          },
          "metadata": {
            "tags": []
          },
          "execution_count": 50
        }
      ]
    },
    {
      "cell_type": "code",
      "metadata": {
        "colab": {
          "base_uri": "https://localhost:8080/",
          "height": 204
        },
        "id": "op2uopt7hSye",
        "outputId": "16ec0817-6760-4a51-ea1f-63cf634d214e"
      },
      "source": [
        "df1.head()"
      ],
      "execution_count": 51,
      "outputs": [
        {
          "output_type": "execute_result",
          "data": {
            "text/html": [
              "<div>\n",
              "<style scoped>\n",
              "    .dataframe tbody tr th:only-of-type {\n",
              "        vertical-align: middle;\n",
              "    }\n",
              "\n",
              "    .dataframe tbody tr th {\n",
              "        vertical-align: top;\n",
              "    }\n",
              "\n",
              "    .dataframe thead th {\n",
              "        text-align: right;\n",
              "    }\n",
              "</style>\n",
              "<table border=\"1\" class=\"dataframe\">\n",
              "  <thead>\n",
              "    <tr style=\"text-align: right;\">\n",
              "      <th></th>\n",
              "      <th>CreditScore</th>\n",
              "      <th>Age</th>\n",
              "      <th>Tenure</th>\n",
              "      <th>Balance</th>\n",
              "      <th>NumOfProducts</th>\n",
              "      <th>HasCrCard</th>\n",
              "      <th>IsActiveMember</th>\n",
              "      <th>EstimatedSalary</th>\n",
              "      <th>Exited</th>\n",
              "      <th>Geography_Germany</th>\n",
              "      <th>Geography_Spain</th>\n",
              "      <th>Gender_Male</th>\n",
              "    </tr>\n",
              "  </thead>\n",
              "  <tbody>\n",
              "    <tr>\n",
              "      <th>0</th>\n",
              "      <td>619</td>\n",
              "      <td>42</td>\n",
              "      <td>2</td>\n",
              "      <td>0.00</td>\n",
              "      <td>1</td>\n",
              "      <td>1</td>\n",
              "      <td>1</td>\n",
              "      <td>101348.88</td>\n",
              "      <td>1</td>\n",
              "      <td>0</td>\n",
              "      <td>0</td>\n",
              "      <td>0</td>\n",
              "    </tr>\n",
              "    <tr>\n",
              "      <th>1</th>\n",
              "      <td>608</td>\n",
              "      <td>41</td>\n",
              "      <td>1</td>\n",
              "      <td>83807.86</td>\n",
              "      <td>1</td>\n",
              "      <td>0</td>\n",
              "      <td>1</td>\n",
              "      <td>112542.58</td>\n",
              "      <td>0</td>\n",
              "      <td>0</td>\n",
              "      <td>1</td>\n",
              "      <td>0</td>\n",
              "    </tr>\n",
              "    <tr>\n",
              "      <th>2</th>\n",
              "      <td>502</td>\n",
              "      <td>42</td>\n",
              "      <td>8</td>\n",
              "      <td>159660.80</td>\n",
              "      <td>3</td>\n",
              "      <td>1</td>\n",
              "      <td>0</td>\n",
              "      <td>113931.57</td>\n",
              "      <td>1</td>\n",
              "      <td>0</td>\n",
              "      <td>0</td>\n",
              "      <td>0</td>\n",
              "    </tr>\n",
              "    <tr>\n",
              "      <th>3</th>\n",
              "      <td>699</td>\n",
              "      <td>39</td>\n",
              "      <td>1</td>\n",
              "      <td>0.00</td>\n",
              "      <td>2</td>\n",
              "      <td>0</td>\n",
              "      <td>0</td>\n",
              "      <td>93826.63</td>\n",
              "      <td>0</td>\n",
              "      <td>0</td>\n",
              "      <td>0</td>\n",
              "      <td>0</td>\n",
              "    </tr>\n",
              "    <tr>\n",
              "      <th>4</th>\n",
              "      <td>850</td>\n",
              "      <td>43</td>\n",
              "      <td>2</td>\n",
              "      <td>125510.82</td>\n",
              "      <td>1</td>\n",
              "      <td>1</td>\n",
              "      <td>1</td>\n",
              "      <td>79084.10</td>\n",
              "      <td>0</td>\n",
              "      <td>0</td>\n",
              "      <td>1</td>\n",
              "      <td>0</td>\n",
              "    </tr>\n",
              "  </tbody>\n",
              "</table>\n",
              "</div>"
            ],
            "text/plain": [
              "   CreditScore  Age  Tenure  ...  Geography_Germany  Geography_Spain  Gender_Male\n",
              "0          619   42       2  ...                  0                0            0\n",
              "1          608   41       1  ...                  0                1            0\n",
              "2          502   42       8  ...                  0                0            0\n",
              "3          699   39       1  ...                  0                0            0\n",
              "4          850   43       2  ...                  0                1            0\n",
              "\n",
              "[5 rows x 12 columns]"
            ]
          },
          "metadata": {
            "tags": []
          },
          "execution_count": 51
        }
      ]
    },
    {
      "cell_type": "code",
      "metadata": {
        "id": "E8Lrxr6AhSyf"
      },
      "source": [
        "X=df1.drop(['Exited'],axis=1)\n",
        "Y=df1['Exited'].copy()"
      ],
      "execution_count": 52,
      "outputs": []
    },
    {
      "cell_type": "code",
      "metadata": {
        "colab": {
          "base_uri": "https://localhost:8080/",
          "height": 204
        },
        "id": "kmfJsIPshSyg",
        "outputId": "ee9517eb-6e7a-4397-a728-5e1071635d34"
      },
      "source": [
        "X.head()"
      ],
      "execution_count": 53,
      "outputs": [
        {
          "output_type": "execute_result",
          "data": {
            "text/html": [
              "<div>\n",
              "<style scoped>\n",
              "    .dataframe tbody tr th:only-of-type {\n",
              "        vertical-align: middle;\n",
              "    }\n",
              "\n",
              "    .dataframe tbody tr th {\n",
              "        vertical-align: top;\n",
              "    }\n",
              "\n",
              "    .dataframe thead th {\n",
              "        text-align: right;\n",
              "    }\n",
              "</style>\n",
              "<table border=\"1\" class=\"dataframe\">\n",
              "  <thead>\n",
              "    <tr style=\"text-align: right;\">\n",
              "      <th></th>\n",
              "      <th>CreditScore</th>\n",
              "      <th>Age</th>\n",
              "      <th>Tenure</th>\n",
              "      <th>Balance</th>\n",
              "      <th>NumOfProducts</th>\n",
              "      <th>HasCrCard</th>\n",
              "      <th>IsActiveMember</th>\n",
              "      <th>EstimatedSalary</th>\n",
              "      <th>Geography_Germany</th>\n",
              "      <th>Geography_Spain</th>\n",
              "      <th>Gender_Male</th>\n",
              "    </tr>\n",
              "  </thead>\n",
              "  <tbody>\n",
              "    <tr>\n",
              "      <th>0</th>\n",
              "      <td>619</td>\n",
              "      <td>42</td>\n",
              "      <td>2</td>\n",
              "      <td>0.00</td>\n",
              "      <td>1</td>\n",
              "      <td>1</td>\n",
              "      <td>1</td>\n",
              "      <td>101348.88</td>\n",
              "      <td>0</td>\n",
              "      <td>0</td>\n",
              "      <td>0</td>\n",
              "    </tr>\n",
              "    <tr>\n",
              "      <th>1</th>\n",
              "      <td>608</td>\n",
              "      <td>41</td>\n",
              "      <td>1</td>\n",
              "      <td>83807.86</td>\n",
              "      <td>1</td>\n",
              "      <td>0</td>\n",
              "      <td>1</td>\n",
              "      <td>112542.58</td>\n",
              "      <td>0</td>\n",
              "      <td>1</td>\n",
              "      <td>0</td>\n",
              "    </tr>\n",
              "    <tr>\n",
              "      <th>2</th>\n",
              "      <td>502</td>\n",
              "      <td>42</td>\n",
              "      <td>8</td>\n",
              "      <td>159660.80</td>\n",
              "      <td>3</td>\n",
              "      <td>1</td>\n",
              "      <td>0</td>\n",
              "      <td>113931.57</td>\n",
              "      <td>0</td>\n",
              "      <td>0</td>\n",
              "      <td>0</td>\n",
              "    </tr>\n",
              "    <tr>\n",
              "      <th>3</th>\n",
              "      <td>699</td>\n",
              "      <td>39</td>\n",
              "      <td>1</td>\n",
              "      <td>0.00</td>\n",
              "      <td>2</td>\n",
              "      <td>0</td>\n",
              "      <td>0</td>\n",
              "      <td>93826.63</td>\n",
              "      <td>0</td>\n",
              "      <td>0</td>\n",
              "      <td>0</td>\n",
              "    </tr>\n",
              "    <tr>\n",
              "      <th>4</th>\n",
              "      <td>850</td>\n",
              "      <td>43</td>\n",
              "      <td>2</td>\n",
              "      <td>125510.82</td>\n",
              "      <td>1</td>\n",
              "      <td>1</td>\n",
              "      <td>1</td>\n",
              "      <td>79084.10</td>\n",
              "      <td>0</td>\n",
              "      <td>1</td>\n",
              "      <td>0</td>\n",
              "    </tr>\n",
              "  </tbody>\n",
              "</table>\n",
              "</div>"
            ],
            "text/plain": [
              "   CreditScore  Age  Tenure  ...  Geography_Germany  Geography_Spain  Gender_Male\n",
              "0          619   42       2  ...                  0                0            0\n",
              "1          608   41       1  ...                  0                1            0\n",
              "2          502   42       8  ...                  0                0            0\n",
              "3          699   39       1  ...                  0                0            0\n",
              "4          850   43       2  ...                  0                1            0\n",
              "\n",
              "[5 rows x 11 columns]"
            ]
          },
          "metadata": {
            "tags": []
          },
          "execution_count": 53
        }
      ]
    },
    {
      "cell_type": "code",
      "metadata": {
        "colab": {
          "base_uri": "https://localhost:8080/"
        },
        "id": "BS_ojTkdhSyh",
        "outputId": "ed32c11d-b91d-426f-98ae-c7ee4507618c"
      },
      "source": [
        "Y.head()"
      ],
      "execution_count": 54,
      "outputs": [
        {
          "output_type": "execute_result",
          "data": {
            "text/plain": [
              "0    1\n",
              "1    0\n",
              "2    1\n",
              "3    0\n",
              "4    0\n",
              "Name: Exited, dtype: int64"
            ]
          },
          "metadata": {
            "tags": []
          },
          "execution_count": 54
        }
      ]
    },
    {
      "cell_type": "code",
      "metadata": {
        "colab": {
          "base_uri": "https://localhost:8080/",
          "height": 204
        },
        "id": "bYvCL5KnhSyh",
        "outputId": "c945a0bd-32cf-4fdf-e81a-1f95bcd64958"
      },
      "source": [
        "from sklearn.preprocessing import StandardScaler,MinMaxScaler\n",
        "scaler=StandardScaler()\n",
        "X=pd.DataFrame(scaler.fit_transform(X),columns=X.columns)\n",
        "X.head()"
      ],
      "execution_count": 55,
      "outputs": [
        {
          "output_type": "execute_result",
          "data": {
            "text/html": [
              "<div>\n",
              "<style scoped>\n",
              "    .dataframe tbody tr th:only-of-type {\n",
              "        vertical-align: middle;\n",
              "    }\n",
              "\n",
              "    .dataframe tbody tr th {\n",
              "        vertical-align: top;\n",
              "    }\n",
              "\n",
              "    .dataframe thead th {\n",
              "        text-align: right;\n",
              "    }\n",
              "</style>\n",
              "<table border=\"1\" class=\"dataframe\">\n",
              "  <thead>\n",
              "    <tr style=\"text-align: right;\">\n",
              "      <th></th>\n",
              "      <th>CreditScore</th>\n",
              "      <th>Age</th>\n",
              "      <th>Tenure</th>\n",
              "      <th>Balance</th>\n",
              "      <th>NumOfProducts</th>\n",
              "      <th>HasCrCard</th>\n",
              "      <th>IsActiveMember</th>\n",
              "      <th>EstimatedSalary</th>\n",
              "      <th>Geography_Germany</th>\n",
              "      <th>Geography_Spain</th>\n",
              "      <th>Gender_Male</th>\n",
              "    </tr>\n",
              "  </thead>\n",
              "  <tbody>\n",
              "    <tr>\n",
              "      <th>0</th>\n",
              "      <td>-0.326221</td>\n",
              "      <td>0.293517</td>\n",
              "      <td>-1.041760</td>\n",
              "      <td>-1.225848</td>\n",
              "      <td>-0.911583</td>\n",
              "      <td>0.646092</td>\n",
              "      <td>0.970243</td>\n",
              "      <td>0.021886</td>\n",
              "      <td>-0.578736</td>\n",
              "      <td>-0.573809</td>\n",
              "      <td>-1.095988</td>\n",
              "    </tr>\n",
              "    <tr>\n",
              "      <th>1</th>\n",
              "      <td>-0.440036</td>\n",
              "      <td>0.198164</td>\n",
              "      <td>-1.387538</td>\n",
              "      <td>0.117350</td>\n",
              "      <td>-0.911583</td>\n",
              "      <td>-1.547768</td>\n",
              "      <td>0.970243</td>\n",
              "      <td>0.216534</td>\n",
              "      <td>-0.578736</td>\n",
              "      <td>1.742740</td>\n",
              "      <td>-1.095988</td>\n",
              "    </tr>\n",
              "    <tr>\n",
              "      <th>2</th>\n",
              "      <td>-1.536794</td>\n",
              "      <td>0.293517</td>\n",
              "      <td>1.032908</td>\n",
              "      <td>1.333053</td>\n",
              "      <td>2.527057</td>\n",
              "      <td>0.646092</td>\n",
              "      <td>-1.030670</td>\n",
              "      <td>0.240687</td>\n",
              "      <td>-0.578736</td>\n",
              "      <td>-0.573809</td>\n",
              "      <td>-1.095988</td>\n",
              "    </tr>\n",
              "    <tr>\n",
              "      <th>3</th>\n",
              "      <td>0.501521</td>\n",
              "      <td>0.007457</td>\n",
              "      <td>-1.387538</td>\n",
              "      <td>-1.225848</td>\n",
              "      <td>0.807737</td>\n",
              "      <td>-1.547768</td>\n",
              "      <td>-1.030670</td>\n",
              "      <td>-0.108918</td>\n",
              "      <td>-0.578736</td>\n",
              "      <td>-0.573809</td>\n",
              "      <td>-1.095988</td>\n",
              "    </tr>\n",
              "    <tr>\n",
              "      <th>4</th>\n",
              "      <td>2.063884</td>\n",
              "      <td>0.388871</td>\n",
              "      <td>-1.041760</td>\n",
              "      <td>0.785728</td>\n",
              "      <td>-0.911583</td>\n",
              "      <td>0.646092</td>\n",
              "      <td>0.970243</td>\n",
              "      <td>-0.365276</td>\n",
              "      <td>-0.578736</td>\n",
              "      <td>1.742740</td>\n",
              "      <td>-1.095988</td>\n",
              "    </tr>\n",
              "  </tbody>\n",
              "</table>\n",
              "</div>"
            ],
            "text/plain": [
              "   CreditScore       Age  ...  Geography_Spain  Gender_Male\n",
              "0    -0.326221  0.293517  ...        -0.573809    -1.095988\n",
              "1    -0.440036  0.198164  ...         1.742740    -1.095988\n",
              "2    -1.536794  0.293517  ...        -0.573809    -1.095988\n",
              "3     0.501521  0.007457  ...        -0.573809    -1.095988\n",
              "4     2.063884  0.388871  ...         1.742740    -1.095988\n",
              "\n",
              "[5 rows x 11 columns]"
            ]
          },
          "metadata": {
            "tags": []
          },
          "execution_count": 55
        }
      ]
    },
    {
      "cell_type": "code",
      "metadata": {
        "colab": {
          "base_uri": "https://localhost:8080/"
        },
        "id": "Rr1GXA51idCB",
        "outputId": "91b837fa-cda2-43b9-f814-4a94a10f7aa4"
      },
      "source": [
        "X.shape"
      ],
      "execution_count": 56,
      "outputs": [
        {
          "output_type": "execute_result",
          "data": {
            "text/plain": [
              "(10000, 11)"
            ]
          },
          "metadata": {
            "tags": []
          },
          "execution_count": 56
        }
      ]
    },
    {
      "cell_type": "code",
      "metadata": {
        "id": "hL3Set-qk_yw"
      },
      "source": [
        "from sklearn.model_selection import train_test_split\n",
        "X_train,X_test,Y_train,Y_test=train_test_split(X,Y,test_size=0.3,random_state=42)"
      ],
      "execution_count": 57,
      "outputs": []
    },
    {
      "cell_type": "code",
      "metadata": {
        "id": "c6MiuRYthSyi"
      },
      "source": [
        "import keras"
      ],
      "execution_count": 58,
      "outputs": []
    },
    {
      "cell_type": "code",
      "metadata": {
        "id": "wFGuQ_9fhSyj"
      },
      "source": [
        "from keras.models import Sequential\n",
        "from keras.layers import Dense\n",
        "from keras.layers import Dropout"
      ],
      "execution_count": 59,
      "outputs": []
    },
    {
      "cell_type": "code",
      "metadata": {
        "id": "u7EiRbFbiGCN"
      },
      "source": [
        "classifier=Sequential()"
      ],
      "execution_count": 60,
      "outputs": []
    },
    {
      "cell_type": "code",
      "metadata": {
        "id": "u_2YymN8iDoc"
      },
      "source": [
        "classifier.add(Dense(units=6,kernel_initializer='he_uniform',activation='relu',input_dim=11))\n",
        "classifier.add(Dense(units=6,kernel_initializer='he_uniform',activation='relu'))\n",
        "classifier.add(Dense(units=1,kernel_initializer='glorot_uniform',activation='sigmoid'))\n",
        "classifier.compile(optimizer='adam',loss='binary_crossentropy',metrics=['accuracy'])"
      ],
      "execution_count": 61,
      "outputs": []
    },
    {
      "cell_type": "code",
      "metadata": {
        "colab": {
          "base_uri": "https://localhost:8080/"
        },
        "id": "aFBkvfzkksHg",
        "outputId": "63ea9417-0f10-4494-b9e4-f3ee3dc198a9"
      },
      "source": [
        "model_history=classifier.fit(X_train,Y_train,validation_split=0.33,batch_size=10,epochs=100)"
      ],
      "execution_count": 62,
      "outputs": [
        {
          "output_type": "stream",
          "text": [
            "Epoch 1/100\n",
            "469/469 [==============================] - 1s 2ms/step - loss: 0.7076 - accuracy: 0.6163 - val_loss: 0.5282 - val_accuracy: 0.7880\n",
            "Epoch 2/100\n",
            "469/469 [==============================] - 1s 2ms/step - loss: 0.5073 - accuracy: 0.7891 - val_loss: 0.4666 - val_accuracy: 0.8001\n",
            "Epoch 3/100\n",
            "469/469 [==============================] - 1s 2ms/step - loss: 0.4500 - accuracy: 0.7995 - val_loss: 0.4547 - val_accuracy: 0.8031\n",
            "Epoch 4/100\n",
            "469/469 [==============================] - 1s 1ms/step - loss: 0.4250 - accuracy: 0.8067 - val_loss: 0.4506 - val_accuracy: 0.8057\n",
            "Epoch 5/100\n",
            "469/469 [==============================] - 1s 2ms/step - loss: 0.4470 - accuracy: 0.8038 - val_loss: 0.4485 - val_accuracy: 0.8113\n",
            "Epoch 6/100\n",
            "469/469 [==============================] - 1s 2ms/step - loss: 0.4236 - accuracy: 0.8058 - val_loss: 0.4441 - val_accuracy: 0.8170\n",
            "Epoch 7/100\n",
            "469/469 [==============================] - 1s 1ms/step - loss: 0.4158 - accuracy: 0.8146 - val_loss: 0.4407 - val_accuracy: 0.8178\n",
            "Epoch 8/100\n",
            "469/469 [==============================] - 1s 1ms/step - loss: 0.4243 - accuracy: 0.8201 - val_loss: 0.4384 - val_accuracy: 0.8196\n",
            "Epoch 9/100\n",
            "469/469 [==============================] - 1s 1ms/step - loss: 0.4063 - accuracy: 0.8264 - val_loss: 0.4355 - val_accuracy: 0.8191\n",
            "Epoch 10/100\n",
            "469/469 [==============================] - 1s 1ms/step - loss: 0.4191 - accuracy: 0.8200 - val_loss: 0.4325 - val_accuracy: 0.8209\n",
            "Epoch 11/100\n",
            "469/469 [==============================] - 1s 1ms/step - loss: 0.4043 - accuracy: 0.8240 - val_loss: 0.4298 - val_accuracy: 0.8243\n",
            "Epoch 12/100\n",
            "469/469 [==============================] - 1s 1ms/step - loss: 0.4071 - accuracy: 0.8265 - val_loss: 0.4271 - val_accuracy: 0.8239\n",
            "Epoch 13/100\n",
            "469/469 [==============================] - 1s 1ms/step - loss: 0.4178 - accuracy: 0.8241 - val_loss: 0.4239 - val_accuracy: 0.8252\n",
            "Epoch 14/100\n",
            "469/469 [==============================] - 1s 1ms/step - loss: 0.4052 - accuracy: 0.8240 - val_loss: 0.4244 - val_accuracy: 0.8278\n",
            "Epoch 15/100\n",
            "469/469 [==============================] - 1s 2ms/step - loss: 0.3878 - accuracy: 0.8313 - val_loss: 0.4207 - val_accuracy: 0.8295\n",
            "Epoch 16/100\n",
            "469/469 [==============================] - 1s 1ms/step - loss: 0.4215 - accuracy: 0.8155 - val_loss: 0.4205 - val_accuracy: 0.8273\n",
            "Epoch 17/100\n",
            "469/469 [==============================] - 1s 2ms/step - loss: 0.3942 - accuracy: 0.8339 - val_loss: 0.4186 - val_accuracy: 0.8286\n",
            "Epoch 18/100\n",
            "469/469 [==============================] - 1s 2ms/step - loss: 0.3880 - accuracy: 0.8370 - val_loss: 0.4195 - val_accuracy: 0.8312\n",
            "Epoch 19/100\n",
            "469/469 [==============================] - 1s 1ms/step - loss: 0.4048 - accuracy: 0.8345 - val_loss: 0.4182 - val_accuracy: 0.8317\n",
            "Epoch 20/100\n",
            "469/469 [==============================] - 1s 1ms/step - loss: 0.4016 - accuracy: 0.8329 - val_loss: 0.4186 - val_accuracy: 0.8317\n",
            "Epoch 21/100\n",
            "469/469 [==============================] - 1s 1ms/step - loss: 0.4025 - accuracy: 0.8307 - val_loss: 0.4146 - val_accuracy: 0.8243\n",
            "Epoch 22/100\n",
            "469/469 [==============================] - 1s 2ms/step - loss: 0.3941 - accuracy: 0.8327 - val_loss: 0.4141 - val_accuracy: 0.8260\n",
            "Epoch 23/100\n",
            "469/469 [==============================] - 1s 1ms/step - loss: 0.3898 - accuracy: 0.8376 - val_loss: 0.4132 - val_accuracy: 0.8243\n",
            "Epoch 24/100\n",
            "469/469 [==============================] - 1s 1ms/step - loss: 0.4022 - accuracy: 0.8303 - val_loss: 0.4128 - val_accuracy: 0.8256\n",
            "Epoch 25/100\n",
            "469/469 [==============================] - 1s 1ms/step - loss: 0.3922 - accuracy: 0.8332 - val_loss: 0.4117 - val_accuracy: 0.8269\n",
            "Epoch 26/100\n",
            "469/469 [==============================] - 1s 1ms/step - loss: 0.3953 - accuracy: 0.8332 - val_loss: 0.4115 - val_accuracy: 0.8278\n",
            "Epoch 27/100\n",
            "469/469 [==============================] - 1s 1ms/step - loss: 0.3838 - accuracy: 0.8373 - val_loss: 0.4121 - val_accuracy: 0.8278\n",
            "Epoch 28/100\n",
            "469/469 [==============================] - 1s 1ms/step - loss: 0.3841 - accuracy: 0.8413 - val_loss: 0.4102 - val_accuracy: 0.8252\n",
            "Epoch 29/100\n",
            "469/469 [==============================] - 1s 2ms/step - loss: 0.3858 - accuracy: 0.8387 - val_loss: 0.4110 - val_accuracy: 0.8295\n",
            "Epoch 30/100\n",
            "469/469 [==============================] - 1s 1ms/step - loss: 0.4038 - accuracy: 0.8321 - val_loss: 0.4094 - val_accuracy: 0.8265\n",
            "Epoch 31/100\n",
            "469/469 [==============================] - 1s 1ms/step - loss: 0.3982 - accuracy: 0.8256 - val_loss: 0.4097 - val_accuracy: 0.8304\n",
            "Epoch 32/100\n",
            "469/469 [==============================] - 1s 2ms/step - loss: 0.3796 - accuracy: 0.8418 - val_loss: 0.4085 - val_accuracy: 0.8291\n",
            "Epoch 33/100\n",
            "469/469 [==============================] - 1s 1ms/step - loss: 0.3894 - accuracy: 0.8372 - val_loss: 0.4083 - val_accuracy: 0.8304\n",
            "Epoch 34/100\n",
            "469/469 [==============================] - 1s 1ms/step - loss: 0.3811 - accuracy: 0.8384 - val_loss: 0.4080 - val_accuracy: 0.8278\n",
            "Epoch 35/100\n",
            "469/469 [==============================] - 1s 1ms/step - loss: 0.3971 - accuracy: 0.8361 - val_loss: 0.4088 - val_accuracy: 0.8278\n",
            "Epoch 36/100\n",
            "469/469 [==============================] - 1s 1ms/step - loss: 0.4033 - accuracy: 0.8287 - val_loss: 0.4125 - val_accuracy: 0.8304\n",
            "Epoch 37/100\n",
            "469/469 [==============================] - 1s 2ms/step - loss: 0.3885 - accuracy: 0.8351 - val_loss: 0.4079 - val_accuracy: 0.8304\n",
            "Epoch 38/100\n",
            "469/469 [==============================] - 1s 1ms/step - loss: 0.3698 - accuracy: 0.8419 - val_loss: 0.4098 - val_accuracy: 0.8312\n",
            "Epoch 39/100\n",
            "469/469 [==============================] - 1s 1ms/step - loss: 0.3959 - accuracy: 0.8326 - val_loss: 0.4085 - val_accuracy: 0.8312\n",
            "Epoch 40/100\n",
            "469/469 [==============================] - 1s 1ms/step - loss: 0.3760 - accuracy: 0.8404 - val_loss: 0.4067 - val_accuracy: 0.8304\n",
            "Epoch 41/100\n",
            "469/469 [==============================] - 1s 1ms/step - loss: 0.3723 - accuracy: 0.8407 - val_loss: 0.4071 - val_accuracy: 0.8291\n",
            "Epoch 42/100\n",
            "469/469 [==============================] - 1s 1ms/step - loss: 0.3881 - accuracy: 0.8336 - val_loss: 0.4060 - val_accuracy: 0.8304\n",
            "Epoch 43/100\n",
            "469/469 [==============================] - 1s 2ms/step - loss: 0.3813 - accuracy: 0.8399 - val_loss: 0.4067 - val_accuracy: 0.8312\n",
            "Epoch 44/100\n",
            "469/469 [==============================] - 1s 2ms/step - loss: 0.3813 - accuracy: 0.8431 - val_loss: 0.4074 - val_accuracy: 0.8291\n",
            "Epoch 45/100\n",
            "469/469 [==============================] - 1s 2ms/step - loss: 0.3979 - accuracy: 0.8295 - val_loss: 0.4073 - val_accuracy: 0.8312\n",
            "Epoch 46/100\n",
            "469/469 [==============================] - 1s 1ms/step - loss: 0.3789 - accuracy: 0.8431 - val_loss: 0.4074 - val_accuracy: 0.8325\n",
            "Epoch 47/100\n",
            "469/469 [==============================] - 1s 2ms/step - loss: 0.3926 - accuracy: 0.8336 - val_loss: 0.4060 - val_accuracy: 0.8308\n",
            "Epoch 48/100\n",
            "469/469 [==============================] - 1s 1ms/step - loss: 0.3841 - accuracy: 0.8421 - val_loss: 0.4067 - val_accuracy: 0.8317\n",
            "Epoch 49/100\n",
            "469/469 [==============================] - 1s 2ms/step - loss: 0.3989 - accuracy: 0.8309 - val_loss: 0.4084 - val_accuracy: 0.8308\n",
            "Epoch 50/100\n",
            "469/469 [==============================] - 1s 1ms/step - loss: 0.4062 - accuracy: 0.8314 - val_loss: 0.4077 - val_accuracy: 0.8295\n",
            "Epoch 51/100\n",
            "469/469 [==============================] - 1s 1ms/step - loss: 0.3851 - accuracy: 0.8334 - val_loss: 0.4072 - val_accuracy: 0.8308\n",
            "Epoch 52/100\n",
            "469/469 [==============================] - 1s 1ms/step - loss: 0.3825 - accuracy: 0.8432 - val_loss: 0.4078 - val_accuracy: 0.8330\n",
            "Epoch 53/100\n",
            "469/469 [==============================] - 1s 1ms/step - loss: 0.3874 - accuracy: 0.8362 - val_loss: 0.4064 - val_accuracy: 0.8317\n",
            "Epoch 54/100\n",
            "469/469 [==============================] - 1s 1ms/step - loss: 0.3909 - accuracy: 0.8414 - val_loss: 0.4063 - val_accuracy: 0.8317\n",
            "Epoch 55/100\n",
            "469/469 [==============================] - 1s 1ms/step - loss: 0.3862 - accuracy: 0.8376 - val_loss: 0.4064 - val_accuracy: 0.8291\n",
            "Epoch 56/100\n",
            "469/469 [==============================] - 1s 1ms/step - loss: 0.3905 - accuracy: 0.8366 - val_loss: 0.4055 - val_accuracy: 0.8321\n",
            "Epoch 57/100\n",
            "469/469 [==============================] - 1s 1ms/step - loss: 0.3851 - accuracy: 0.8391 - val_loss: 0.4069 - val_accuracy: 0.8321\n",
            "Epoch 58/100\n",
            "469/469 [==============================] - 1s 2ms/step - loss: 0.3715 - accuracy: 0.8465 - val_loss: 0.4053 - val_accuracy: 0.8282\n",
            "Epoch 59/100\n",
            "469/469 [==============================] - 1s 1ms/step - loss: 0.3746 - accuracy: 0.8440 - val_loss: 0.4055 - val_accuracy: 0.8330\n",
            "Epoch 60/100\n",
            "469/469 [==============================] - 1s 1ms/step - loss: 0.3910 - accuracy: 0.8393 - val_loss: 0.4063 - val_accuracy: 0.8321\n",
            "Epoch 61/100\n",
            "469/469 [==============================] - 1s 2ms/step - loss: 0.3946 - accuracy: 0.8333 - val_loss: 0.4043 - val_accuracy: 0.8325\n",
            "Epoch 62/100\n",
            "469/469 [==============================] - 1s 1ms/step - loss: 0.3858 - accuracy: 0.8336 - val_loss: 0.4048 - val_accuracy: 0.8321\n",
            "Epoch 63/100\n",
            "469/469 [==============================] - 1s 1ms/step - loss: 0.3785 - accuracy: 0.8432 - val_loss: 0.4080 - val_accuracy: 0.8299\n",
            "Epoch 64/100\n",
            "469/469 [==============================] - 1s 1ms/step - loss: 0.3791 - accuracy: 0.8385 - val_loss: 0.4055 - val_accuracy: 0.8321\n",
            "Epoch 65/100\n",
            "469/469 [==============================] - 1s 2ms/step - loss: 0.3822 - accuracy: 0.8448 - val_loss: 0.4040 - val_accuracy: 0.8317\n",
            "Epoch 66/100\n",
            "469/469 [==============================] - 1s 1ms/step - loss: 0.3873 - accuracy: 0.8448 - val_loss: 0.4054 - val_accuracy: 0.8317\n",
            "Epoch 67/100\n",
            "469/469 [==============================] - 1s 2ms/step - loss: 0.3710 - accuracy: 0.8473 - val_loss: 0.4045 - val_accuracy: 0.8321\n",
            "Epoch 68/100\n",
            "469/469 [==============================] - 1s 2ms/step - loss: 0.3824 - accuracy: 0.8434 - val_loss: 0.4044 - val_accuracy: 0.8312\n",
            "Epoch 69/100\n",
            "469/469 [==============================] - 1s 1ms/step - loss: 0.3864 - accuracy: 0.8369 - val_loss: 0.4081 - val_accuracy: 0.8347\n",
            "Epoch 70/100\n",
            "469/469 [==============================] - 1s 1ms/step - loss: 0.3866 - accuracy: 0.8374 - val_loss: 0.4055 - val_accuracy: 0.8351\n",
            "Epoch 71/100\n",
            "469/469 [==============================] - 1s 1ms/step - loss: 0.3985 - accuracy: 0.8309 - val_loss: 0.4047 - val_accuracy: 0.8334\n",
            "Epoch 72/100\n",
            "469/469 [==============================] - 1s 1ms/step - loss: 0.3749 - accuracy: 0.8450 - val_loss: 0.4039 - val_accuracy: 0.8317\n",
            "Epoch 73/100\n",
            "469/469 [==============================] - 1s 2ms/step - loss: 0.3755 - accuracy: 0.8397 - val_loss: 0.4035 - val_accuracy: 0.8343\n",
            "Epoch 74/100\n",
            "469/469 [==============================] - 1s 1ms/step - loss: 0.3872 - accuracy: 0.8360 - val_loss: 0.4069 - val_accuracy: 0.8356\n",
            "Epoch 75/100\n",
            "469/469 [==============================] - 1s 1ms/step - loss: 0.3831 - accuracy: 0.8350 - val_loss: 0.4078 - val_accuracy: 0.8356\n",
            "Epoch 76/100\n",
            "469/469 [==============================] - 1s 1ms/step - loss: 0.3743 - accuracy: 0.8464 - val_loss: 0.4038 - val_accuracy: 0.8343\n",
            "Epoch 77/100\n",
            "469/469 [==============================] - 1s 1ms/step - loss: 0.3833 - accuracy: 0.8404 - val_loss: 0.4024 - val_accuracy: 0.8347\n",
            "Epoch 78/100\n",
            "469/469 [==============================] - 1s 1ms/step - loss: 0.3953 - accuracy: 0.8389 - val_loss: 0.4029 - val_accuracy: 0.8334\n",
            "Epoch 79/100\n",
            "469/469 [==============================] - 1s 1ms/step - loss: 0.3824 - accuracy: 0.8433 - val_loss: 0.4034 - val_accuracy: 0.8325\n",
            "Epoch 80/100\n",
            "469/469 [==============================] - 1s 2ms/step - loss: 0.3729 - accuracy: 0.8480 - val_loss: 0.4031 - val_accuracy: 0.8325\n",
            "Epoch 81/100\n",
            "469/469 [==============================] - 1s 1ms/step - loss: 0.3785 - accuracy: 0.8406 - val_loss: 0.4045 - val_accuracy: 0.8338\n",
            "Epoch 82/100\n",
            "469/469 [==============================] - 1s 1ms/step - loss: 0.3810 - accuracy: 0.8418 - val_loss: 0.4039 - val_accuracy: 0.8308\n",
            "Epoch 83/100\n",
            "469/469 [==============================] - 1s 1ms/step - loss: 0.3761 - accuracy: 0.8513 - val_loss: 0.4034 - val_accuracy: 0.8338\n",
            "Epoch 84/100\n",
            "469/469 [==============================] - 1s 1ms/step - loss: 0.3942 - accuracy: 0.8321 - val_loss: 0.4044 - val_accuracy: 0.8351\n",
            "Epoch 85/100\n",
            "469/469 [==============================] - 1s 1ms/step - loss: 0.3964 - accuracy: 0.8346 - val_loss: 0.4034 - val_accuracy: 0.8351\n",
            "Epoch 86/100\n",
            "469/469 [==============================] - 1s 1ms/step - loss: 0.3654 - accuracy: 0.8563 - val_loss: 0.4023 - val_accuracy: 0.8325\n",
            "Epoch 87/100\n",
            "469/469 [==============================] - 1s 2ms/step - loss: 0.3707 - accuracy: 0.8507 - val_loss: 0.4022 - val_accuracy: 0.8343\n",
            "Epoch 88/100\n",
            "469/469 [==============================] - 1s 1ms/step - loss: 0.3628 - accuracy: 0.8536 - val_loss: 0.4020 - val_accuracy: 0.8330\n",
            "Epoch 89/100\n",
            "469/469 [==============================] - 1s 1ms/step - loss: 0.3719 - accuracy: 0.8508 - val_loss: 0.4057 - val_accuracy: 0.8351\n",
            "Epoch 90/100\n",
            "469/469 [==============================] - 1s 1ms/step - loss: 0.3744 - accuracy: 0.8435 - val_loss: 0.4027 - val_accuracy: 0.8351\n",
            "Epoch 91/100\n",
            "469/469 [==============================] - 1s 2ms/step - loss: 0.3815 - accuracy: 0.8438 - val_loss: 0.4025 - val_accuracy: 0.8351\n",
            "Epoch 92/100\n",
            "469/469 [==============================] - 1s 2ms/step - loss: 0.3749 - accuracy: 0.8438 - val_loss: 0.4023 - val_accuracy: 0.8364\n",
            "Epoch 93/100\n",
            "469/469 [==============================] - 1s 1ms/step - loss: 0.3943 - accuracy: 0.8356 - val_loss: 0.4034 - val_accuracy: 0.8369\n",
            "Epoch 94/100\n",
            "469/469 [==============================] - 1s 1ms/step - loss: 0.3969 - accuracy: 0.8336 - val_loss: 0.4016 - val_accuracy: 0.8338\n",
            "Epoch 95/100\n",
            "469/469 [==============================] - 1s 1ms/step - loss: 0.3835 - accuracy: 0.8432 - val_loss: 0.4015 - val_accuracy: 0.8351\n",
            "Epoch 96/100\n",
            "469/469 [==============================] - 1s 2ms/step - loss: 0.3778 - accuracy: 0.8485 - val_loss: 0.4029 - val_accuracy: 0.8386\n",
            "Epoch 97/100\n",
            "469/469 [==============================] - 1s 1ms/step - loss: 0.3915 - accuracy: 0.8370 - val_loss: 0.4020 - val_accuracy: 0.8364\n",
            "Epoch 98/100\n",
            "469/469 [==============================] - 1s 2ms/step - loss: 0.3803 - accuracy: 0.8450 - val_loss: 0.4004 - val_accuracy: 0.8351\n",
            "Epoch 99/100\n",
            "469/469 [==============================] - 1s 2ms/step - loss: 0.3785 - accuracy: 0.8410 - val_loss: 0.4025 - val_accuracy: 0.8395\n",
            "Epoch 100/100\n",
            "469/469 [==============================] - 1s 2ms/step - loss: 0.3798 - accuracy: 0.8389 - val_loss: 0.4003 - val_accuracy: 0.8377\n"
          ],
          "name": "stdout"
        }
      ]
    },
    {
      "cell_type": "code",
      "metadata": {
        "colab": {
          "base_uri": "https://localhost:8080/"
        },
        "id": "kMlnYOwsl18R",
        "outputId": "3b17987a-4407-44c1-f277-f8133106c109"
      },
      "source": [
        "Y_pred = classifier.predict(X_test)\n",
        "Y_pred = (Y_pred>0.5)\n",
        "print(Y_pred)"
      ],
      "execution_count": 65,
      "outputs": [
        {
          "output_type": "stream",
          "text": [
            "[[False]\n",
            " [False]\n",
            " [False]\n",
            " ...\n",
            " [False]\n",
            " [False]\n",
            " [False]]\n"
          ],
          "name": "stdout"
        }
      ]
    },
    {
      "cell_type": "code",
      "metadata": {
        "colab": {
          "base_uri": "https://localhost:8080/"
        },
        "id": "gymL4Q0qmuFj",
        "outputId": "73a6384a-9209-485c-9fdf-30effeb4f6f0"
      },
      "source": [
        "from sklearn.metrics import confusion_matrix,accuracy_score\n",
        "cm=confusion_matrix(Y_test,Y_pred)\n",
        "print(cm)\n",
        "print('Train Accuracy :',accuracy_score(Y_train,Y_pred))\n",
        "print('Test Accuracy :',accuracy_score(Y_test,Y_pred))"
      ],
      "execution_count": 69,
      "outputs": [
        {
          "output_type": "stream",
          "text": [
            "[[2338   78]\n",
            " [ 366  218]]\n",
            "0.852\n"
          ],
          "name": "stdout"
        }
      ]
    }
  ]
}