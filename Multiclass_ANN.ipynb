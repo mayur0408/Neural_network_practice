{
  "nbformat": 4,
  "nbformat_minor": 0,
  "metadata": {
    "colab": {
      "name": "Multiclass_ANN.ipynb",
      "provenance": [],
      "authorship_tag": "ABX9TyNv4MIUHaXwRIpZ6H3J++W1",
      "include_colab_link": true
    },
    "kernelspec": {
      "name": "python3",
      "display_name": "Python 3"
    },
    "language_info": {
      "name": "python"
    }
  },
  "cells": [
    {
      "cell_type": "markdown",
      "metadata": {
        "id": "view-in-github",
        "colab_type": "text"
      },
      "source": [
        "<a href=\"https://colab.research.google.com/github/mayur0408/Neural_network_practice/blob/main/Multiclass_ANN.ipynb\" target=\"_parent\"><img src=\"https://colab.research.google.com/assets/colab-badge.svg\" alt=\"Open In Colab\"/></a>"
      ]
    },
    {
      "cell_type": "code",
      "metadata": {
        "colab": {
          "base_uri": "https://localhost:8080/",
          "height": 204
        },
        "id": "hXjPHlqGNAHk",
        "outputId": "fe71bfd4-c06f-4b6e-ee92-f54c8482af23"
      },
      "source": [
        "import numpy as np \n",
        "import pandas as pd \n",
        "import seaborn as sns \n",
        "df = sns.load_dataset('iris')\n",
        "df.head()"
      ],
      "execution_count": 94,
      "outputs": [
        {
          "output_type": "execute_result",
          "data": {
            "text/html": [
              "<div>\n",
              "<style scoped>\n",
              "    .dataframe tbody tr th:only-of-type {\n",
              "        vertical-align: middle;\n",
              "    }\n",
              "\n",
              "    .dataframe tbody tr th {\n",
              "        vertical-align: top;\n",
              "    }\n",
              "\n",
              "    .dataframe thead th {\n",
              "        text-align: right;\n",
              "    }\n",
              "</style>\n",
              "<table border=\"1\" class=\"dataframe\">\n",
              "  <thead>\n",
              "    <tr style=\"text-align: right;\">\n",
              "      <th></th>\n",
              "      <th>sepal_length</th>\n",
              "      <th>sepal_width</th>\n",
              "      <th>petal_length</th>\n",
              "      <th>petal_width</th>\n",
              "      <th>species</th>\n",
              "    </tr>\n",
              "  </thead>\n",
              "  <tbody>\n",
              "    <tr>\n",
              "      <th>0</th>\n",
              "      <td>5.1</td>\n",
              "      <td>3.5</td>\n",
              "      <td>1.4</td>\n",
              "      <td>0.2</td>\n",
              "      <td>setosa</td>\n",
              "    </tr>\n",
              "    <tr>\n",
              "      <th>1</th>\n",
              "      <td>4.9</td>\n",
              "      <td>3.0</td>\n",
              "      <td>1.4</td>\n",
              "      <td>0.2</td>\n",
              "      <td>setosa</td>\n",
              "    </tr>\n",
              "    <tr>\n",
              "      <th>2</th>\n",
              "      <td>4.7</td>\n",
              "      <td>3.2</td>\n",
              "      <td>1.3</td>\n",
              "      <td>0.2</td>\n",
              "      <td>setosa</td>\n",
              "    </tr>\n",
              "    <tr>\n",
              "      <th>3</th>\n",
              "      <td>4.6</td>\n",
              "      <td>3.1</td>\n",
              "      <td>1.5</td>\n",
              "      <td>0.2</td>\n",
              "      <td>setosa</td>\n",
              "    </tr>\n",
              "    <tr>\n",
              "      <th>4</th>\n",
              "      <td>5.0</td>\n",
              "      <td>3.6</td>\n",
              "      <td>1.4</td>\n",
              "      <td>0.2</td>\n",
              "      <td>setosa</td>\n",
              "    </tr>\n",
              "  </tbody>\n",
              "</table>\n",
              "</div>"
            ],
            "text/plain": [
              "   sepal_length  sepal_width  petal_length  petal_width species\n",
              "0           5.1          3.5           1.4          0.2  setosa\n",
              "1           4.9          3.0           1.4          0.2  setosa\n",
              "2           4.7          3.2           1.3          0.2  setosa\n",
              "3           4.6          3.1           1.5          0.2  setosa\n",
              "4           5.0          3.6           1.4          0.2  setosa"
            ]
          },
          "metadata": {
            "tags": []
          },
          "execution_count": 94
        }
      ]
    },
    {
      "cell_type": "code",
      "metadata": {
        "colab": {
          "base_uri": "https://localhost:8080/",
          "height": 204
        },
        "id": "JAKr3ccsU8CI",
        "outputId": "48902a3f-62e5-4cd5-f2fb-a1351b500863"
      },
      "source": [
        "X=df.drop(['species'],axis=1)\n",
        "X.head()"
      ],
      "execution_count": 95,
      "outputs": [
        {
          "output_type": "execute_result",
          "data": {
            "text/html": [
              "<div>\n",
              "<style scoped>\n",
              "    .dataframe tbody tr th:only-of-type {\n",
              "        vertical-align: middle;\n",
              "    }\n",
              "\n",
              "    .dataframe tbody tr th {\n",
              "        vertical-align: top;\n",
              "    }\n",
              "\n",
              "    .dataframe thead th {\n",
              "        text-align: right;\n",
              "    }\n",
              "</style>\n",
              "<table border=\"1\" class=\"dataframe\">\n",
              "  <thead>\n",
              "    <tr style=\"text-align: right;\">\n",
              "      <th></th>\n",
              "      <th>sepal_length</th>\n",
              "      <th>sepal_width</th>\n",
              "      <th>petal_length</th>\n",
              "      <th>petal_width</th>\n",
              "    </tr>\n",
              "  </thead>\n",
              "  <tbody>\n",
              "    <tr>\n",
              "      <th>0</th>\n",
              "      <td>5.1</td>\n",
              "      <td>3.5</td>\n",
              "      <td>1.4</td>\n",
              "      <td>0.2</td>\n",
              "    </tr>\n",
              "    <tr>\n",
              "      <th>1</th>\n",
              "      <td>4.9</td>\n",
              "      <td>3.0</td>\n",
              "      <td>1.4</td>\n",
              "      <td>0.2</td>\n",
              "    </tr>\n",
              "    <tr>\n",
              "      <th>2</th>\n",
              "      <td>4.7</td>\n",
              "      <td>3.2</td>\n",
              "      <td>1.3</td>\n",
              "      <td>0.2</td>\n",
              "    </tr>\n",
              "    <tr>\n",
              "      <th>3</th>\n",
              "      <td>4.6</td>\n",
              "      <td>3.1</td>\n",
              "      <td>1.5</td>\n",
              "      <td>0.2</td>\n",
              "    </tr>\n",
              "    <tr>\n",
              "      <th>4</th>\n",
              "      <td>5.0</td>\n",
              "      <td>3.6</td>\n",
              "      <td>1.4</td>\n",
              "      <td>0.2</td>\n",
              "    </tr>\n",
              "  </tbody>\n",
              "</table>\n",
              "</div>"
            ],
            "text/plain": [
              "   sepal_length  sepal_width  petal_length  petal_width\n",
              "0           5.1          3.5           1.4          0.2\n",
              "1           4.9          3.0           1.4          0.2\n",
              "2           4.7          3.2           1.3          0.2\n",
              "3           4.6          3.1           1.5          0.2\n",
              "4           5.0          3.6           1.4          0.2"
            ]
          },
          "metadata": {
            "tags": []
          },
          "execution_count": 95
        }
      ]
    },
    {
      "cell_type": "code",
      "metadata": {
        "colab": {
          "base_uri": "https://localhost:8080/"
        },
        "id": "kZTEBnggVP-D",
        "outputId": "b268b790-f12e-4149-e453-ea3d92417732"
      },
      "source": [
        "Y=df['species'].copy()\n",
        "Y.head()"
      ],
      "execution_count": 96,
      "outputs": [
        {
          "output_type": "execute_result",
          "data": {
            "text/plain": [
              "0    setosa\n",
              "1    setosa\n",
              "2    setosa\n",
              "3    setosa\n",
              "4    setosa\n",
              "Name: species, dtype: object"
            ]
          },
          "metadata": {
            "tags": []
          },
          "execution_count": 96
        }
      ]
    },
    {
      "cell_type": "code",
      "metadata": {
        "colab": {
          "base_uri": "https://localhost:8080/",
          "height": 204
        },
        "id": "QpkS2g_vVVHi",
        "outputId": "4a6f5621-7afd-449e-a952-2fb3a31430db"
      },
      "source": [
        "Y=pd.get_dummies(Y)\n",
        "Y.head()"
      ],
      "execution_count": 97,
      "outputs": [
        {
          "output_type": "execute_result",
          "data": {
            "text/html": [
              "<div>\n",
              "<style scoped>\n",
              "    .dataframe tbody tr th:only-of-type {\n",
              "        vertical-align: middle;\n",
              "    }\n",
              "\n",
              "    .dataframe tbody tr th {\n",
              "        vertical-align: top;\n",
              "    }\n",
              "\n",
              "    .dataframe thead th {\n",
              "        text-align: right;\n",
              "    }\n",
              "</style>\n",
              "<table border=\"1\" class=\"dataframe\">\n",
              "  <thead>\n",
              "    <tr style=\"text-align: right;\">\n",
              "      <th></th>\n",
              "      <th>setosa</th>\n",
              "      <th>versicolor</th>\n",
              "      <th>virginica</th>\n",
              "    </tr>\n",
              "  </thead>\n",
              "  <tbody>\n",
              "    <tr>\n",
              "      <th>0</th>\n",
              "      <td>1</td>\n",
              "      <td>0</td>\n",
              "      <td>0</td>\n",
              "    </tr>\n",
              "    <tr>\n",
              "      <th>1</th>\n",
              "      <td>1</td>\n",
              "      <td>0</td>\n",
              "      <td>0</td>\n",
              "    </tr>\n",
              "    <tr>\n",
              "      <th>2</th>\n",
              "      <td>1</td>\n",
              "      <td>0</td>\n",
              "      <td>0</td>\n",
              "    </tr>\n",
              "    <tr>\n",
              "      <th>3</th>\n",
              "      <td>1</td>\n",
              "      <td>0</td>\n",
              "      <td>0</td>\n",
              "    </tr>\n",
              "    <tr>\n",
              "      <th>4</th>\n",
              "      <td>1</td>\n",
              "      <td>0</td>\n",
              "      <td>0</td>\n",
              "    </tr>\n",
              "  </tbody>\n",
              "</table>\n",
              "</div>"
            ],
            "text/plain": [
              "   setosa  versicolor  virginica\n",
              "0       1           0          0\n",
              "1       1           0          0\n",
              "2       1           0          0\n",
              "3       1           0          0\n",
              "4       1           0          0"
            ]
          },
          "metadata": {
            "tags": []
          },
          "execution_count": 97
        }
      ]
    },
    {
      "cell_type": "code",
      "metadata": {
        "colab": {
          "base_uri": "https://localhost:8080/",
          "height": 204
        },
        "id": "LlfquyEVYLAd",
        "outputId": "172fe120-168f-419a-d5d6-91b4937224ae"
      },
      "source": [
        "from sklearn.preprocessing import StandardScaler\n",
        "scaler=StandardScaler()\n",
        "X=pd.DataFrame(scaler.fit_transform(X),columns=X.columns)\n",
        "X.head()"
      ],
      "execution_count": 98,
      "outputs": [
        {
          "output_type": "execute_result",
          "data": {
            "text/html": [
              "<div>\n",
              "<style scoped>\n",
              "    .dataframe tbody tr th:only-of-type {\n",
              "        vertical-align: middle;\n",
              "    }\n",
              "\n",
              "    .dataframe tbody tr th {\n",
              "        vertical-align: top;\n",
              "    }\n",
              "\n",
              "    .dataframe thead th {\n",
              "        text-align: right;\n",
              "    }\n",
              "</style>\n",
              "<table border=\"1\" class=\"dataframe\">\n",
              "  <thead>\n",
              "    <tr style=\"text-align: right;\">\n",
              "      <th></th>\n",
              "      <th>sepal_length</th>\n",
              "      <th>sepal_width</th>\n",
              "      <th>petal_length</th>\n",
              "      <th>petal_width</th>\n",
              "    </tr>\n",
              "  </thead>\n",
              "  <tbody>\n",
              "    <tr>\n",
              "      <th>0</th>\n",
              "      <td>-0.900681</td>\n",
              "      <td>1.019004</td>\n",
              "      <td>-1.340227</td>\n",
              "      <td>-1.315444</td>\n",
              "    </tr>\n",
              "    <tr>\n",
              "      <th>1</th>\n",
              "      <td>-1.143017</td>\n",
              "      <td>-0.131979</td>\n",
              "      <td>-1.340227</td>\n",
              "      <td>-1.315444</td>\n",
              "    </tr>\n",
              "    <tr>\n",
              "      <th>2</th>\n",
              "      <td>-1.385353</td>\n",
              "      <td>0.328414</td>\n",
              "      <td>-1.397064</td>\n",
              "      <td>-1.315444</td>\n",
              "    </tr>\n",
              "    <tr>\n",
              "      <th>3</th>\n",
              "      <td>-1.506521</td>\n",
              "      <td>0.098217</td>\n",
              "      <td>-1.283389</td>\n",
              "      <td>-1.315444</td>\n",
              "    </tr>\n",
              "    <tr>\n",
              "      <th>4</th>\n",
              "      <td>-1.021849</td>\n",
              "      <td>1.249201</td>\n",
              "      <td>-1.340227</td>\n",
              "      <td>-1.315444</td>\n",
              "    </tr>\n",
              "  </tbody>\n",
              "</table>\n",
              "</div>"
            ],
            "text/plain": [
              "   sepal_length  sepal_width  petal_length  petal_width\n",
              "0     -0.900681     1.019004     -1.340227    -1.315444\n",
              "1     -1.143017    -0.131979     -1.340227    -1.315444\n",
              "2     -1.385353     0.328414     -1.397064    -1.315444\n",
              "3     -1.506521     0.098217     -1.283389    -1.315444\n",
              "4     -1.021849     1.249201     -1.340227    -1.315444"
            ]
          },
          "metadata": {
            "tags": []
          },
          "execution_count": 98
        }
      ]
    },
    {
      "cell_type": "code",
      "metadata": {
        "colab": {
          "base_uri": "https://localhost:8080/"
        },
        "id": "waR92RvMVjvV",
        "outputId": "24433a90-0454-47a2-93bb-f7cabb84e256"
      },
      "source": [
        "from sklearn.model_selection import train_test_split\n",
        "X_train,X_test,Y_train,Y_test=train_test_split(X,Y,test_size=0.2,random_state=42)\n",
        "print(f'{len(X_train)} {len(Y_train)}')\n",
        "print(f'{len(X_test)} {len(Y_test)}')"
      ],
      "execution_count": 99,
      "outputs": [
        {
          "output_type": "stream",
          "text": [
            "120 120\n",
            "30 30\n"
          ],
          "name": "stdout"
        }
      ]
    },
    {
      "cell_type": "code",
      "metadata": {
        "id": "8tnjBEDPX4kb"
      },
      "source": [
        "import keras \n",
        "from keras.models import Sequential\n",
        "from keras.layers import Dense\n",
        "classifier=Sequential()"
      ],
      "execution_count": 100,
      "outputs": []
    },
    {
      "cell_type": "code",
      "metadata": {
        "id": "XORA-JkgYzl2"
      },
      "source": [
        "classifier.add(Dense(input_dim=X.shape[1],kernel_initializer='he_uniform',activation='relu',units=6))\n",
        "classifier.add(Dense(kernel_initializer='he_uniform',activation='relu',units=12))\n",
        "classifier.add(Dense(units=3,kernel_initializer='glorot_uniform',activation='softmax'))\n",
        "classifier.compile(optimizer='adam',metrics=['categorical_accuracy'],loss='categorical_crossentropy')"
      ],
      "execution_count": 101,
      "outputs": []
    },
    {
      "cell_type": "code",
      "metadata": {
        "colab": {
          "base_uri": "https://localhost:8080/"
        },
        "id": "1aiRzUnRaRp2",
        "outputId": "e179cae2-cf21-4c55-bc37-915e82811b8e"
      },
      "source": [
        "model_hist=classifier.fit(X_train,Y_train,batch_size=12,epochs=100,validation_split=0.3)"
      ],
      "execution_count": 102,
      "outputs": [
        {
          "output_type": "stream",
          "text": [
            "Epoch 1/100\n",
            "7/7 [==============================] - 1s 38ms/step - loss: 1.3749 - categorical_accuracy: 0.1089 - val_loss: 1.3127 - val_categorical_accuracy: 0.1111\n",
            "Epoch 2/100\n",
            "7/7 [==============================] - 0s 9ms/step - loss: 1.4639 - categorical_accuracy: 0.0935 - val_loss: 1.2523 - val_categorical_accuracy: 0.1389\n",
            "Epoch 3/100\n",
            "7/7 [==============================] - 0s 9ms/step - loss: 1.3206 - categorical_accuracy: 0.2379 - val_loss: 1.2014 - val_categorical_accuracy: 0.1667\n",
            "Epoch 4/100\n",
            "7/7 [==============================] - 0s 8ms/step - loss: 1.1788 - categorical_accuracy: 0.2892 - val_loss: 1.1560 - val_categorical_accuracy: 0.1944\n",
            "Epoch 5/100\n",
            "7/7 [==============================] - 0s 9ms/step - loss: 1.1342 - categorical_accuracy: 0.4404 - val_loss: 1.1138 - val_categorical_accuracy: 0.2500\n",
            "Epoch 6/100\n",
            "7/7 [==============================] - 0s 9ms/step - loss: 1.0910 - categorical_accuracy: 0.3043 - val_loss: 1.0734 - val_categorical_accuracy: 0.2500\n",
            "Epoch 7/100\n",
            "7/7 [==============================] - 0s 9ms/step - loss: 1.0285 - categorical_accuracy: 0.3908 - val_loss: 1.0389 - val_categorical_accuracy: 0.3056\n",
            "Epoch 8/100\n",
            "7/7 [==============================] - 0s 8ms/step - loss: 0.9909 - categorical_accuracy: 0.4514 - val_loss: 1.0079 - val_categorical_accuracy: 0.4167\n",
            "Epoch 9/100\n",
            "7/7 [==============================] - 0s 9ms/step - loss: 0.9432 - categorical_accuracy: 0.5292 - val_loss: 0.9796 - val_categorical_accuracy: 0.4722\n",
            "Epoch 10/100\n",
            "7/7 [==============================] - 0s 9ms/step - loss: 0.9822 - categorical_accuracy: 0.4510 - val_loss: 0.9512 - val_categorical_accuracy: 0.5833\n",
            "Epoch 11/100\n",
            "7/7 [==============================] - 0s 52ms/step - loss: 0.8911 - categorical_accuracy: 0.5382 - val_loss: 0.9263 - val_categorical_accuracy: 0.6389\n",
            "Epoch 12/100\n",
            "7/7 [==============================] - 0s 10ms/step - loss: 0.8843 - categorical_accuracy: 0.5578 - val_loss: 0.9029 - val_categorical_accuracy: 0.6667\n",
            "Epoch 13/100\n",
            "7/7 [==============================] - 0s 9ms/step - loss: 0.8766 - categorical_accuracy: 0.5949 - val_loss: 0.8792 - val_categorical_accuracy: 0.7500\n",
            "Epoch 14/100\n",
            "7/7 [==============================] - 0s 9ms/step - loss: 0.9055 - categorical_accuracy: 0.6106 - val_loss: 0.8567 - val_categorical_accuracy: 0.8056\n",
            "Epoch 15/100\n",
            "7/7 [==============================] - 0s 10ms/step - loss: 0.8324 - categorical_accuracy: 0.6409 - val_loss: 0.8348 - val_categorical_accuracy: 0.8056\n",
            "Epoch 16/100\n",
            "7/7 [==============================] - 0s 13ms/step - loss: 0.7913 - categorical_accuracy: 0.7649 - val_loss: 0.8137 - val_categorical_accuracy: 0.8056\n",
            "Epoch 17/100\n",
            "7/7 [==============================] - 0s 9ms/step - loss: 0.7771 - categorical_accuracy: 0.6868 - val_loss: 0.7933 - val_categorical_accuracy: 0.8056\n",
            "Epoch 18/100\n",
            "7/7 [==============================] - 0s 9ms/step - loss: 0.7606 - categorical_accuracy: 0.7042 - val_loss: 0.7730 - val_categorical_accuracy: 0.8056\n",
            "Epoch 19/100\n",
            "7/7 [==============================] - 0s 9ms/step - loss: 0.7114 - categorical_accuracy: 0.8014 - val_loss: 0.7530 - val_categorical_accuracy: 0.8056\n",
            "Epoch 20/100\n",
            "7/7 [==============================] - 0s 9ms/step - loss: 0.7785 - categorical_accuracy: 0.6754 - val_loss: 0.7342 - val_categorical_accuracy: 0.8333\n",
            "Epoch 21/100\n",
            "7/7 [==============================] - 0s 9ms/step - loss: 0.6672 - categorical_accuracy: 0.8100 - val_loss: 0.7158 - val_categorical_accuracy: 0.8333\n",
            "Epoch 22/100\n",
            "7/7 [==============================] - 0s 9ms/step - loss: 0.6547 - categorical_accuracy: 0.8081 - val_loss: 0.6988 - val_categorical_accuracy: 0.8611\n",
            "Epoch 23/100\n",
            "7/7 [==============================] - 0s 10ms/step - loss: 0.6523 - categorical_accuracy: 0.8267 - val_loss: 0.6818 - val_categorical_accuracy: 0.8611\n",
            "Epoch 24/100\n",
            "7/7 [==============================] - 0s 9ms/step - loss: 0.6326 - categorical_accuracy: 0.7883 - val_loss: 0.6654 - val_categorical_accuracy: 0.8611\n",
            "Epoch 25/100\n",
            "7/7 [==============================] - 0s 10ms/step - loss: 0.5371 - categorical_accuracy: 0.8642 - val_loss: 0.6492 - val_categorical_accuracy: 0.8611\n",
            "Epoch 26/100\n",
            "7/7 [==============================] - 0s 10ms/step - loss: 0.5554 - categorical_accuracy: 0.8331 - val_loss: 0.6332 - val_categorical_accuracy: 0.8611\n",
            "Epoch 27/100\n",
            "7/7 [==============================] - 0s 9ms/step - loss: 0.5438 - categorical_accuracy: 0.8251 - val_loss: 0.6188 - val_categorical_accuracy: 0.8611\n",
            "Epoch 28/100\n",
            "7/7 [==============================] - 0s 10ms/step - loss: 0.5113 - categorical_accuracy: 0.8637 - val_loss: 0.6039 - val_categorical_accuracy: 0.8611\n",
            "Epoch 29/100\n",
            "7/7 [==============================] - 0s 9ms/step - loss: 0.5927 - categorical_accuracy: 0.7541 - val_loss: 0.5894 - val_categorical_accuracy: 0.8889\n",
            "Epoch 30/100\n",
            "7/7 [==============================] - 0s 10ms/step - loss: 0.5704 - categorical_accuracy: 0.8207 - val_loss: 0.5754 - val_categorical_accuracy: 0.8889\n",
            "Epoch 31/100\n",
            "7/7 [==============================] - 0s 9ms/step - loss: 0.4934 - categorical_accuracy: 0.8556 - val_loss: 0.5621 - val_categorical_accuracy: 0.8889\n",
            "Epoch 32/100\n",
            "7/7 [==============================] - 0s 10ms/step - loss: 0.4786 - categorical_accuracy: 0.8988 - val_loss: 0.5484 - val_categorical_accuracy: 0.8889\n",
            "Epoch 33/100\n",
            "7/7 [==============================] - 0s 9ms/step - loss: 0.4802 - categorical_accuracy: 0.8669 - val_loss: 0.5356 - val_categorical_accuracy: 0.8889\n",
            "Epoch 34/100\n",
            "7/7 [==============================] - 0s 9ms/step - loss: 0.4890 - categorical_accuracy: 0.8643 - val_loss: 0.5232 - val_categorical_accuracy: 0.8889\n",
            "Epoch 35/100\n",
            "7/7 [==============================] - 0s 8ms/step - loss: 0.4450 - categorical_accuracy: 0.8521 - val_loss: 0.5116 - val_categorical_accuracy: 0.8889\n",
            "Epoch 36/100\n",
            "7/7 [==============================] - 0s 10ms/step - loss: 0.5163 - categorical_accuracy: 0.8438 - val_loss: 0.5000 - val_categorical_accuracy: 0.8889\n",
            "Epoch 37/100\n",
            "7/7 [==============================] - 0s 10ms/step - loss: 0.4498 - categorical_accuracy: 0.8568 - val_loss: 0.4893 - val_categorical_accuracy: 0.8889\n",
            "Epoch 38/100\n",
            "7/7 [==============================] - 0s 10ms/step - loss: 0.4695 - categorical_accuracy: 0.8812 - val_loss: 0.4788 - val_categorical_accuracy: 0.9167\n",
            "Epoch 39/100\n",
            "7/7 [==============================] - 0s 9ms/step - loss: 0.4195 - categorical_accuracy: 0.8851 - val_loss: 0.4686 - val_categorical_accuracy: 0.9167\n",
            "Epoch 40/100\n",
            "7/7 [==============================] - 0s 11ms/step - loss: 0.4349 - categorical_accuracy: 0.8719 - val_loss: 0.4588 - val_categorical_accuracy: 0.9167\n",
            "Epoch 41/100\n",
            "7/7 [==============================] - 0s 9ms/step - loss: 0.5199 - categorical_accuracy: 0.8075 - val_loss: 0.4497 - val_categorical_accuracy: 0.9167\n",
            "Epoch 42/100\n",
            "7/7 [==============================] - 0s 8ms/step - loss: 0.3663 - categorical_accuracy: 0.9023 - val_loss: 0.4407 - val_categorical_accuracy: 0.9167\n",
            "Epoch 43/100\n",
            "7/7 [==============================] - 0s 9ms/step - loss: 0.3610 - categorical_accuracy: 0.9167 - val_loss: 0.4323 - val_categorical_accuracy: 0.9167\n",
            "Epoch 44/100\n",
            "7/7 [==============================] - 0s 9ms/step - loss: 0.3571 - categorical_accuracy: 0.8980 - val_loss: 0.4245 - val_categorical_accuracy: 0.9167\n",
            "Epoch 45/100\n",
            "7/7 [==============================] - 0s 9ms/step - loss: 0.3951 - categorical_accuracy: 0.8548 - val_loss: 0.4169 - val_categorical_accuracy: 0.9167\n",
            "Epoch 46/100\n",
            "7/7 [==============================] - 0s 9ms/step - loss: 0.3791 - categorical_accuracy: 0.8761 - val_loss: 0.4094 - val_categorical_accuracy: 0.9167\n",
            "Epoch 47/100\n",
            "7/7 [==============================] - 0s 12ms/step - loss: 0.4268 - categorical_accuracy: 0.8487 - val_loss: 0.4024 - val_categorical_accuracy: 0.9167\n",
            "Epoch 48/100\n",
            "7/7 [==============================] - 0s 10ms/step - loss: 0.3539 - categorical_accuracy: 0.9063 - val_loss: 0.3952 - val_categorical_accuracy: 0.9167\n",
            "Epoch 49/100\n",
            "7/7 [==============================] - 0s 9ms/step - loss: 0.3469 - categorical_accuracy: 0.9041 - val_loss: 0.3880 - val_categorical_accuracy: 0.9167\n",
            "Epoch 50/100\n",
            "7/7 [==============================] - 0s 10ms/step - loss: 0.3802 - categorical_accuracy: 0.8806 - val_loss: 0.3814 - val_categorical_accuracy: 0.9167\n",
            "Epoch 51/100\n",
            "7/7 [==============================] - 0s 10ms/step - loss: 0.3472 - categorical_accuracy: 0.8662 - val_loss: 0.3749 - val_categorical_accuracy: 0.9167\n",
            "Epoch 52/100\n",
            "7/7 [==============================] - 0s 11ms/step - loss: 0.3844 - categorical_accuracy: 0.8614 - val_loss: 0.3694 - val_categorical_accuracy: 0.9167\n",
            "Epoch 53/100\n",
            "7/7 [==============================] - 0s 9ms/step - loss: 0.3995 - categorical_accuracy: 0.8542 - val_loss: 0.3637 - val_categorical_accuracy: 0.9167\n",
            "Epoch 54/100\n",
            "7/7 [==============================] - 0s 9ms/step - loss: 0.3638 - categorical_accuracy: 0.8685 - val_loss: 0.3582 - val_categorical_accuracy: 0.9167\n",
            "Epoch 55/100\n",
            "7/7 [==============================] - 0s 9ms/step - loss: 0.3688 - categorical_accuracy: 0.8555 - val_loss: 0.3525 - val_categorical_accuracy: 0.9167\n",
            "Epoch 56/100\n",
            "7/7 [==============================] - 0s 11ms/step - loss: 0.3674 - categorical_accuracy: 0.8664 - val_loss: 0.3473 - val_categorical_accuracy: 0.9167\n",
            "Epoch 57/100\n",
            "7/7 [==============================] - 0s 9ms/step - loss: 0.3301 - categorical_accuracy: 0.9031 - val_loss: 0.3418 - val_categorical_accuracy: 0.9167\n",
            "Epoch 58/100\n",
            "7/7 [==============================] - 0s 9ms/step - loss: 0.3421 - categorical_accuracy: 0.8850 - val_loss: 0.3365 - val_categorical_accuracy: 0.9167\n",
            "Epoch 59/100\n",
            "7/7 [==============================] - 0s 9ms/step - loss: 0.3128 - categorical_accuracy: 0.8840 - val_loss: 0.3313 - val_categorical_accuracy: 0.9167\n",
            "Epoch 60/100\n",
            "7/7 [==============================] - 0s 9ms/step - loss: 0.3670 - categorical_accuracy: 0.8590 - val_loss: 0.3264 - val_categorical_accuracy: 0.9167\n",
            "Epoch 61/100\n",
            "7/7 [==============================] - 0s 9ms/step - loss: 0.2906 - categorical_accuracy: 0.9213 - val_loss: 0.3215 - val_categorical_accuracy: 0.9167\n",
            "Epoch 62/100\n",
            "7/7 [==============================] - 0s 10ms/step - loss: 0.3051 - categorical_accuracy: 0.8944 - val_loss: 0.3171 - val_categorical_accuracy: 0.9444\n",
            "Epoch 63/100\n",
            "7/7 [==============================] - 0s 9ms/step - loss: 0.3361 - categorical_accuracy: 0.8727 - val_loss: 0.3129 - val_categorical_accuracy: 0.9444\n",
            "Epoch 64/100\n",
            "7/7 [==============================] - 0s 10ms/step - loss: 0.2836 - categorical_accuracy: 0.9245 - val_loss: 0.3086 - val_categorical_accuracy: 0.9444\n",
            "Epoch 65/100\n",
            "7/7 [==============================] - 0s 9ms/step - loss: 0.2613 - categorical_accuracy: 0.9246 - val_loss: 0.3048 - val_categorical_accuracy: 0.9444\n",
            "Epoch 66/100\n",
            "7/7 [==============================] - 0s 8ms/step - loss: 0.3236 - categorical_accuracy: 0.8962 - val_loss: 0.3004 - val_categorical_accuracy: 0.9444\n",
            "Epoch 67/100\n",
            "7/7 [==============================] - 0s 9ms/step - loss: 0.2701 - categorical_accuracy: 0.9397 - val_loss: 0.2958 - val_categorical_accuracy: 0.9444\n",
            "Epoch 68/100\n",
            "7/7 [==============================] - 0s 9ms/step - loss: 0.2510 - categorical_accuracy: 0.9375 - val_loss: 0.2913 - val_categorical_accuracy: 0.9444\n",
            "Epoch 69/100\n",
            "7/7 [==============================] - 0s 9ms/step - loss: 0.3089 - categorical_accuracy: 0.8908 - val_loss: 0.2874 - val_categorical_accuracy: 0.9444\n",
            "Epoch 70/100\n",
            "7/7 [==============================] - 0s 10ms/step - loss: 0.2592 - categorical_accuracy: 0.9316 - val_loss: 0.2826 - val_categorical_accuracy: 0.9444\n",
            "Epoch 71/100\n",
            "7/7 [==============================] - 0s 9ms/step - loss: 0.2971 - categorical_accuracy: 0.8969 - val_loss: 0.2783 - val_categorical_accuracy: 0.9444\n",
            "Epoch 72/100\n",
            "7/7 [==============================] - 0s 11ms/step - loss: 0.2646 - categorical_accuracy: 0.9206 - val_loss: 0.2739 - val_categorical_accuracy: 0.9444\n",
            "Epoch 73/100\n",
            "7/7 [==============================] - 0s 10ms/step - loss: 0.2603 - categorical_accuracy: 0.9163 - val_loss: 0.2701 - val_categorical_accuracy: 0.9444\n",
            "Epoch 74/100\n",
            "7/7 [==============================] - 0s 10ms/step - loss: 0.2554 - categorical_accuracy: 0.9189 - val_loss: 0.2665 - val_categorical_accuracy: 0.9444\n",
            "Epoch 75/100\n",
            "7/7 [==============================] - 0s 11ms/step - loss: 0.3084 - categorical_accuracy: 0.8981 - val_loss: 0.2624 - val_categorical_accuracy: 0.9444\n",
            "Epoch 76/100\n",
            "7/7 [==============================] - 0s 10ms/step - loss: 0.2338 - categorical_accuracy: 0.9203 - val_loss: 0.2589 - val_categorical_accuracy: 0.9444\n",
            "Epoch 77/100\n",
            "7/7 [==============================] - 0s 9ms/step - loss: 0.2588 - categorical_accuracy: 0.9059 - val_loss: 0.2553 - val_categorical_accuracy: 0.9167\n",
            "Epoch 78/100\n",
            "7/7 [==============================] - 0s 9ms/step - loss: 0.2810 - categorical_accuracy: 0.9052 - val_loss: 0.2517 - val_categorical_accuracy: 0.9167\n",
            "Epoch 79/100\n",
            "7/7 [==============================] - 0s 9ms/step - loss: 0.2393 - categorical_accuracy: 0.9311 - val_loss: 0.2478 - val_categorical_accuracy: 0.9167\n",
            "Epoch 80/100\n",
            "7/7 [==============================] - 0s 9ms/step - loss: 0.2394 - categorical_accuracy: 0.9224 - val_loss: 0.2442 - val_categorical_accuracy: 0.9444\n",
            "Epoch 81/100\n",
            "7/7 [==============================] - 0s 10ms/step - loss: 0.2360 - categorical_accuracy: 0.9302 - val_loss: 0.2412 - val_categorical_accuracy: 0.9167\n",
            "Epoch 82/100\n",
            "7/7 [==============================] - 0s 10ms/step - loss: 0.2281 - categorical_accuracy: 0.9290 - val_loss: 0.2385 - val_categorical_accuracy: 0.9167\n",
            "Epoch 83/100\n",
            "7/7 [==============================] - 0s 9ms/step - loss: 0.2655 - categorical_accuracy: 0.8887 - val_loss: 0.2348 - val_categorical_accuracy: 0.9167\n",
            "Epoch 84/100\n",
            "7/7 [==============================] - 0s 10ms/step - loss: 0.2635 - categorical_accuracy: 0.9102 - val_loss: 0.2325 - val_categorical_accuracy: 0.9722\n",
            "Epoch 85/100\n",
            "7/7 [==============================] - 0s 9ms/step - loss: 0.2389 - categorical_accuracy: 0.9206 - val_loss: 0.2291 - val_categorical_accuracy: 0.9722\n",
            "Epoch 86/100\n",
            "7/7 [==============================] - 0s 9ms/step - loss: 0.2607 - categorical_accuracy: 0.8856 - val_loss: 0.2269 - val_categorical_accuracy: 0.9722\n",
            "Epoch 87/100\n",
            "7/7 [==============================] - 0s 11ms/step - loss: 0.2658 - categorical_accuracy: 0.8960 - val_loss: 0.2241 - val_categorical_accuracy: 0.9722\n",
            "Epoch 88/100\n",
            "7/7 [==============================] - 0s 9ms/step - loss: 0.2130 - categorical_accuracy: 0.9439 - val_loss: 0.2207 - val_categorical_accuracy: 0.9722\n",
            "Epoch 89/100\n",
            "7/7 [==============================] - 0s 9ms/step - loss: 0.1910 - categorical_accuracy: 0.9302 - val_loss: 0.2184 - val_categorical_accuracy: 0.9722\n",
            "Epoch 90/100\n",
            "7/7 [==============================] - 0s 9ms/step - loss: 0.1848 - categorical_accuracy: 0.9328 - val_loss: 0.2158 - val_categorical_accuracy: 0.9722\n",
            "Epoch 91/100\n",
            "7/7 [==============================] - 0s 9ms/step - loss: 0.2102 - categorical_accuracy: 0.9081 - val_loss: 0.2136 - val_categorical_accuracy: 0.9722\n",
            "Epoch 92/100\n",
            "7/7 [==============================] - 0s 9ms/step - loss: 0.2125 - categorical_accuracy: 0.9064 - val_loss: 0.2107 - val_categorical_accuracy: 0.9722\n",
            "Epoch 93/100\n",
            "7/7 [==============================] - 0s 9ms/step - loss: 0.2713 - categorical_accuracy: 0.8592 - val_loss: 0.2091 - val_categorical_accuracy: 0.9722\n",
            "Epoch 94/100\n",
            "7/7 [==============================] - 0s 9ms/step - loss: 0.1892 - categorical_accuracy: 0.9318 - val_loss: 0.2057 - val_categorical_accuracy: 0.9722\n",
            "Epoch 95/100\n",
            "7/7 [==============================] - 0s 9ms/step - loss: 0.2704 - categorical_accuracy: 0.8712 - val_loss: 0.2030 - val_categorical_accuracy: 0.9722\n",
            "Epoch 96/100\n",
            "7/7 [==============================] - 0s 9ms/step - loss: 0.2022 - categorical_accuracy: 0.9335 - val_loss: 0.2002 - val_categorical_accuracy: 0.9722\n",
            "Epoch 97/100\n",
            "7/7 [==============================] - 0s 10ms/step - loss: 0.2170 - categorical_accuracy: 0.9182 - val_loss: 0.1971 - val_categorical_accuracy: 0.9722\n",
            "Epoch 98/100\n",
            "7/7 [==============================] - 0s 11ms/step - loss: 0.2394 - categorical_accuracy: 0.8743 - val_loss: 0.1940 - val_categorical_accuracy: 0.9722\n",
            "Epoch 99/100\n",
            "7/7 [==============================] - 0s 9ms/step - loss: 0.2149 - categorical_accuracy: 0.9365 - val_loss: 0.1909 - val_categorical_accuracy: 0.9722\n",
            "Epoch 100/100\n",
            "7/7 [==============================] - 0s 11ms/step - loss: 0.1875 - categorical_accuracy: 0.9577 - val_loss: 0.1875 - val_categorical_accuracy: 0.9722\n"
          ],
          "name": "stdout"
        }
      ]
    },
    {
      "cell_type": "code",
      "metadata": {
        "colab": {
          "base_uri": "https://localhost:8080/"
        },
        "id": "QF_SY1DQa55o",
        "outputId": "99aa313a-4a75-4705-b184-c0be9cf90816"
      },
      "source": [
        "Y_pred=classifier.predict_classes(X_test)\n",
        "print(Y_pred)"
      ],
      "execution_count": 103,
      "outputs": [
        {
          "output_type": "stream",
          "text": [
            "WARNING:tensorflow:7 out of the last 9 calls to <function Model.make_predict_function.<locals>.predict_function at 0x7fd40a72b290> triggered tf.function retracing. Tracing is expensive and the excessive number of tracings could be due to (1) creating @tf.function repeatedly in a loop, (2) passing tensors with different shapes, (3) passing Python objects instead of tensors. For (1), please define your @tf.function outside of the loop. For (2), @tf.function has experimental_relax_shapes=True option that relaxes argument shapes that can avoid unnecessary retracing. For (3), please refer to https://www.tensorflow.org/guide/function#controlling_retracing and https://www.tensorflow.org/api_docs/python/tf/function for  more details.\n",
            "[1 0 2 2 1 0 1 2 1 1 2 0 0 0 0 1 2 1 1 2 0 2 0 2 2 2 2 2 0 0]\n"
          ],
          "name": "stdout"
        },
        {
          "output_type": "stream",
          "text": [
            "/usr/local/lib/python3.7/dist-packages/tensorflow/python/keras/engine/sequential.py:450: UserWarning: `model.predict_classes()` is deprecated and will be removed after 2021-01-01. Please use instead:* `np.argmax(model.predict(x), axis=-1)`,   if your model does multi-class classification   (e.g. if it uses a `softmax` last-layer activation).* `(model.predict(x) > 0.5).astype(\"int32\")`,   if your model does binary classification   (e.g. if it uses a `sigmoid` last-layer activation).\n",
            "  warnings.warn('`model.predict_classes()` is deprecated and '\n"
          ],
          "name": "stderr"
        }
      ]
    },
    {
      "cell_type": "code",
      "metadata": {
        "colab": {
          "base_uri": "https://localhost:8080/"
        },
        "id": "J-sQ0mlobqq9",
        "outputId": "9dc493b9-182a-4c35-a2e2-8ff3af9e78ff"
      },
      "source": [
        "Y_test=Y_test.rename(columns={\"setosa\": 0, \"versicolor\": 1, \"virginica\": 2})\n",
        "# Y_test.head()\n",
        "Y_test=Y_test.idxmax(axis=1)\n",
        "print(Y_test)"
      ],
      "execution_count": 104,
      "outputs": [
        {
          "output_type": "stream",
          "text": [
            "73     1\n",
            "18     0\n",
            "118    2\n",
            "78     1\n",
            "76     1\n",
            "31     0\n",
            "64     1\n",
            "141    2\n",
            "68     1\n",
            "82     1\n",
            "110    2\n",
            "12     0\n",
            "36     0\n",
            "9      0\n",
            "19     0\n",
            "56     1\n",
            "104    2\n",
            "69     1\n",
            "55     1\n",
            "132    2\n",
            "29     0\n",
            "127    2\n",
            "26     0\n",
            "128    2\n",
            "131    2\n",
            "145    2\n",
            "108    2\n",
            "143    2\n",
            "45     0\n",
            "30     0\n",
            "dtype: int64\n"
          ],
          "name": "stdout"
        }
      ]
    },
    {
      "cell_type": "code",
      "metadata": {
        "colab": {
          "base_uri": "https://localhost:8080/"
        },
        "id": "GJzXcpzCb5xE",
        "outputId": "1a2929c7-d900-49bf-e3bd-4471829bd3cb"
      },
      "source": [
        "from sklearn.metrics import accuracy_score\n",
        "score=accuracy_score(Y_test,Y_pred)\n",
        "print(score)"
      ],
      "execution_count": 105,
      "outputs": [
        {
          "output_type": "stream",
          "text": [
            "0.9666666666666667\n"
          ],
          "name": "stdout"
        }
      ]
    }
  ]
}